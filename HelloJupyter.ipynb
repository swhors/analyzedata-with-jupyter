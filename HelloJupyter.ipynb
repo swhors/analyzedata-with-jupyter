{
 "cells": [
  {
   "cell_type": "code",
   "execution_count": null,
   "id": "01f33bbe-8bcb-47f1-9f5b-ef9f630b4479",
   "metadata": {},
   "outputs": [],
   "source": [
    "from datetime import datetime\n",
    "def print_today():\n",
    "    print(f\"hello! Today is {datetime.now()}\")\n",
    "print_today()"
   ]
  }
 ],
 "metadata": {
  "kernelspec": {
   "display_name": "Python 3 (ipykernel)",
   "language": "python",
   "name": "python3"
  },
  "language_info": {
   "codemirror_mode": {
    "name": "ipython",
    "version": 3
   },
   "file_extension": ".py",
   "mimetype": "text/x-python",
   "name": "python",
   "nbconvert_exporter": "python",
   "pygments_lexer": "ipython3",
   "version": "3.11.2"
  }
 },
 "nbformat": 4,
 "nbformat_minor": 5
}
