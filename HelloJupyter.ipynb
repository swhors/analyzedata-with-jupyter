{
 "cells": [
  {
   "cell_type": "code",
   "execution_count": 2,
   "id": "b856e10d-f88c-424d-9896-d13af622e28b",
   "metadata": {},
   "outputs": [
    {
     "name": "stdout",
     "output_type": "stream",
     "text": [
      "hello! Today is 2024-09-06 17:29:00.368499\n"
     ]
    }
   ],
   "source": [
    "from datetime import datetime\n",
    "def print_today():\n",
    "    print(f\"hello! Today is {datetime.now()}\")\n",
    "print_today()"
   ]
  },
  {
   "cell_type": "code",
   "execution_count": null,
   "id": "29087989-3c4b-4755-854d-6536e75fe0b3",
   "metadata": {},
   "outputs": [],
   "source": []
  }
 ],
 "metadata": {
  "kernelspec": {
   "display_name": "Python 3 (ipykernel)",
   "language": "python",
   "name": "python3"
  },
  "language_info": {
   "codemirror_mode": {
    "name": "ipython",
    "version": 3
   },
   "file_extension": ".py",
   "mimetype": "text/x-python",
   "name": "python",
   "nbconvert_exporter": "python",
   "pygments_lexer": "ipython3",
   "version": "3.11.2"
  }
 },
 "nbformat": 4,
 "nbformat_minor": 5
}
