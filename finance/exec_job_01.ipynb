{
 "cells": [
  {
   "cell_type": "code",
   "execution_count": 1,
   "id": "161ecc0d-da95-4c97-a472-16b3080cd0cc",
   "metadata": {},
   "outputs": [],
   "source": [
    "# import library\n",
    "import os\n",
    "import FinanceDataReader as fdr\n",
    "conn = None"
   ]
  },
  {
   "cell_type": "code",
   "execution_count": 2,
   "id": "2bab3cbf-3ae9-4d1f-981f-7370f6fc9df1",
   "metadata": {},
   "outputs": [],
   "source": [
    "# db configuration\n",
    "db_host=\"localhost\"\n",
    "db_port=3306\n",
    "db_user=\"tester\"\n",
    "db_passwd=\"aq1234\"\n",
    "db_db=\"finance\"\n",
    "charset=\"utf8\""
   ]
  },
  {
   "cell_type": "code",
   "execution_count": 3,
   "id": "2d8432ab-0b95-4917-8b67-a58370364568",
   "metadata": {},
   "outputs": [],
   "source": [
    "import os\n",
    "from datetime import datetime, timedelta\n",
    "from util import db_init, db_fint, select_datas, insert_datas\n",
    "from model.wanted_com import WantedCom"
   ]
  },
  {
   "cell_type": "code",
   "execution_count": 4,
   "id": "ecddcc3c-7752-40b0-856c-f3d589b5a1f9",
   "metadata": {},
   "outputs": [],
   "source": [
    "\"\"\"\n",
    "read wanted company list\n",
    "\"\"\"\n",
    "def get_coms_list_from_file():\n",
    "    coms_list = []\n",
    "    with open(\"coms_list.txt\") as listfd:\n",
    "        lines = listfd.readlines()\n",
    "        for line in lines:\n",
    "            line = line.replace('\\n', '')\n",
    "            code, name, market = line.split(',')\n",
    "            coms_list.append(WantedCom(code, name, market))\n",
    "        listfd.close()\n",
    "        return coms_list\n"
   ]
  },
  {
   "cell_type": "code",
   "execution_count": 5,
   "id": "ee845f9f-2dae-4143-a073-90bcb0fd747f",
   "metadata": {},
   "outputs": [],
   "source": [
    "def get_coms_list_from_db():\n",
    "    conn = db_init(db_host=db_host, db_user=db_user, db_passwd=db_passwd, db_db=db_db)\n",
    "    \n",
    "    db_fint(conn)"
   ]
  },
  {
   "cell_type": "code",
   "execution_count": 6,
   "id": "c3d63528-b324-42e8-8e1b-4b15a919c990",
   "metadata": {},
   "outputs": [],
   "source": [
    "\"\"\"\n",
    "calculate datetime before one day\n",
    "\"\"\"\n",
    "def get_yesterday():\n",
    "    now = datetime.now()\n",
    "    before_one_day = now - timedelta(days = 1)\n",
    "    return before_one_day\n"
   ]
  },
  {
   "cell_type": "code",
   "execution_count": 7,
   "id": "37182ba0-7193-40d6-b04c-b456ee49f649",
   "metadata": {},
   "outputs": [],
   "source": [
    "\"\"\"\n",
    "get stock information\n",
    "\"\"\"\n",
    "def get_stock_info(coms_list, from_date, end_date):\n",
    "    infos = []\n",
    "    for com in coms_list:\n",
    "        print(com, type(com))\n",
    "        #df = fdr.DataReader(com[0], from_date, end_date)\n",
    "        #info_dict = df.to_dict('records')\n",
    "        #infos.append(info_dict)\n",
    "    return infos\n"
   ]
  },
  {
   "cell_type": "code",
   "execution_count": 8,
   "id": "29bf7d65-5108-4378-95f4-3c94a6180916",
   "metadata": {},
   "outputs": [
    {
     "ename": "NameError",
     "evalue": "name 'WnatedCom' is not defined",
     "output_type": "error",
     "traceback": [
      "\u001b[0;31m---------------------------------------------------------------------------\u001b[0m",
      "\u001b[0;31mNameError\u001b[0m                                 Traceback (most recent call last)",
      "Cell \u001b[0;32mIn[8], line 1\u001b[0m\n\u001b[0;32m----> 1\u001b[0m coms_list \u001b[38;5;241m=\u001b[39m \u001b[43mget_coms_list_from_file\u001b[49m\u001b[43m(\u001b[49m\u001b[43m)\u001b[49m\n\u001b[1;32m      2\u001b[0m yester_day \u001b[38;5;241m=\u001b[39m get_yesterday()\n\u001b[1;32m      3\u001b[0m now \u001b[38;5;241m=\u001b[39m datetime\u001b[38;5;241m.\u001b[39mnow()\n",
      "Cell \u001b[0;32mIn[4], line 11\u001b[0m, in \u001b[0;36mget_coms_list_from_file\u001b[0;34m()\u001b[0m\n\u001b[1;32m      9\u001b[0m     line \u001b[38;5;241m=\u001b[39m line\u001b[38;5;241m.\u001b[39mreplace(\u001b[38;5;124m'\u001b[39m\u001b[38;5;130;01m\\n\u001b[39;00m\u001b[38;5;124m'\u001b[39m, \u001b[38;5;124m'\u001b[39m\u001b[38;5;124m'\u001b[39m)\n\u001b[1;32m     10\u001b[0m     code, name, market \u001b[38;5;241m=\u001b[39m line\u001b[38;5;241m.\u001b[39msplit(\u001b[38;5;124m'\u001b[39m\u001b[38;5;124m,\u001b[39m\u001b[38;5;124m'\u001b[39m)\n\u001b[0;32m---> 11\u001b[0m     coms_list\u001b[38;5;241m.\u001b[39mappend(\u001b[43mWnatedCom\u001b[49m(code, name, market))\n\u001b[1;32m     12\u001b[0m listfd\u001b[38;5;241m.\u001b[39mclose()\n\u001b[1;32m     13\u001b[0m \u001b[38;5;28;01mreturn\u001b[39;00m coms_list\n",
      "\u001b[0;31mNameError\u001b[0m: name 'WnatedCom' is not defined"
     ]
    }
   ],
   "source": [
    "coms_list = get_coms_list_from_file()\n",
    "yester_day = get_yesterday()\n",
    "now = datetime.now()\n",
    "infos = get_stock_info(coms_list=coms_list, from_date=yester_day, end_date=now)\n",
    "print(infos)"
   ]
  }
 ],
 "metadata": {
  "kernelspec": {
   "display_name": "Python 3 (ipykernel)",
   "language": "python",
   "name": "python3"
  },
  "language_info": {
   "codemirror_mode": {
    "name": "ipython",
    "version": 3
   },
   "file_extension": ".py",
   "mimetype": "text/x-python",
   "name": "python",
   "nbconvert_exporter": "python",
   "pygments_lexer": "ipython3",
   "version": "3.11.2"
  }
 },
 "nbformat": 4,
 "nbformat_minor": 5
}
