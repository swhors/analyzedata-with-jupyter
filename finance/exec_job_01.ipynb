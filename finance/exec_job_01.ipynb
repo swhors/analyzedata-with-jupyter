{
 "cells": [
  {
   "cell_type": "code",
   "execution_count": 2,
   "id": "161ecc0d-da95-4c97-a472-16b3080cd0cc",
   "metadata": {},
   "outputs": [],
   "source": [
    "# import library\n",
    "import pymysql\n",
    "import os\n",
    "import FinanceDataReader as fdr\n",
    "conn = None"
   ]
  },
  {
   "cell_type": "code",
   "execution_count": 3,
   "id": "2bab3cbf-3ae9-4d1f-981f-7370f6fc9df1",
   "metadata": {},
   "outputs": [],
   "source": [
    "# db configuration\n",
    "db_host=\"localhost\"\n",
    "db_port=3306\n",
    "db_user=\"tester\"\n",
    "db_passwd=\"aq1234\"\n",
    "db_db=\"finance\"\n",
    "charset=\"utf8\""
   ]
  },
  {
   "cell_type": "code",
   "execution_count": 4,
   "id": "2d8432ab-0b95-4917-8b67-a58370364568",
   "metadata": {},
   "outputs": [
    {
     "name": "stdout",
     "output_type": "stream",
     "text": [
      "cur_pwd = /home/swhors/jupyter-workspace/finance\n",
      "('105560', ' KB금융', ' KOSPI')\n",
      "[{'Open': 83300, 'High': 83800, 'Low': 80900, 'Close': 82300, 'Volume': 1158030, 'Change': -0.01200480192076836}]\n",
      "('139050', ' BF랩스', ' KOSDAQ')\n",
      "[{'Open': 0, 'High': 0, 'Low': 0, 'Close': 2805, 'Volume': 0, 'Change': 0.0}]\n"
     ]
    }
   ],
   "source": [
    "import os\n",
    "from datetime import datetime, timedelta\n",
    "\n",
    "print(f'cur_pwd = {os.getcwd()}')\n",
    "\n",
    "# read wanted company list\n",
    "coms_list = []\n",
    "with open(\"coms_list.txt\") as listfd:\n",
    "    lines = listfd.readlines()\n",
    "    for line in lines:\n",
    "        line = line.replace('\\n', '')\n",
    "        code, name, market = line.split(',')\n",
    "        coms_list.append((code, name, market))\n",
    "    listfd.close()\n",
    "\n",
    "\n",
    "# calculate datetime before one day\n",
    "now = datetime.now()\n",
    "before_one_day = now - timedelta(days = 1)\n",
    "\n",
    "\n",
    "# get stock information\n",
    "for com in coms_list:\n",
    "    print(com)\n",
    "    df = fdr.DataReader(com[0], before_one_day) # 2020년 ~ 현재\n",
    "    info_dict = df.to_dict('records')\n",
    "    print(info_dict)"
   ]
  }
 ],
 "metadata": {
  "kernelspec": {
   "display_name": "Python 3 (ipykernel)",
   "language": "python",
   "name": "python3"
  },
  "language_info": {
   "codemirror_mode": {
    "name": "ipython",
    "version": 3
   },
   "file_extension": ".py",
   "mimetype": "text/x-python",
   "name": "python",
   "nbconvert_exporter": "python",
   "pygments_lexer": "ipython3",
   "version": "3.11.2"
  }
 },
 "nbformat": 4,
 "nbformat_minor": 5
}
