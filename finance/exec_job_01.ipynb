{
 "cells": [
  {
   "cell_type": "code",
   "execution_count": 2,
   "id": "161ecc0d-da95-4c97-a472-16b3080cd0cc",
   "metadata": {},
   "outputs": [],
   "source": [
    "# import library\n",
    "import os\n",
    "import FinanceDataReader as fdr"
   ]
  },
  {
   "cell_type": "code",
   "execution_count": 3,
   "id": "2d8432ab-0b95-4917-8b67-a58370364568",
   "metadata": {},
   "outputs": [],
   "source": [
    "from util import get_yesterday, get_now\n",
    "from model.wanted_com import WantedCom\n",
    "from service.wanted_com_util import get_wantedcoms"
   ]
  },
  {
   "cell_type": "code",
   "execution_count": 4,
   "id": "37182ba0-7193-40d6-b04c-b456ee49f649",
   "metadata": {},
   "outputs": [],
   "source": [
    "\"\"\"\n",
    "get stock information\n",
    "\"\"\"\n",
    "def get_stock_info(coms_list, from_date, end_date):\n",
    "    infos = []\n",
    "    for com in coms_list:\n",
    "        print(com, type(com))\n",
    "        df = fdr.DataReader(com.code, from_date, end_date)\n",
    "        info_dict = df.to_dict('records')\n",
    "        infos.append(info_dict)\n",
    "    return infos\n"
   ]
  },
  {
   "cell_type": "code",
   "execution_count": 5,
   "id": "29bf7d65-5108-4378-95f4-3c94a6180916",
   "metadata": {},
   "outputs": [
    {
     "name": "stdout",
     "output_type": "stream",
     "text": [
      "current_path = /home/swhors/jupyter-workspace/finance\n",
      "\"1\", \"105560\", \" KB금융\", \" KOSPI\" <class 'model.wanted_com.WantedCom'>\n",
      "\"2\", \"139050\", \" BF랩스\", \" KOSDAQ\" <class 'model.wanted_com.WantedCom'>\n",
      "\"3\", \"006400\", \" 삼성SDI\", \" KOSPI\" <class 'model.wanted_com.WantedCom'>\n",
      "[[{'Open': 77900, 'High': 78400, 'Low': 77300, 'Close': 77800, 'Volume': 904919, 'Change': -0.0012836970474967568}], [{'Open': 0, 'High': 0, 'Low': 0, 'Close': 2805, 'Volume': 0, 'Change': 0.0}], [{'Open': 368000, 'High': 371000, 'Low': 359000, 'Close': 363500, 'Volume': 287136, 'Change': -0.006830601092896127}]]\n"
     ]
    }
   ],
   "source": [
    "coms_list = get_wantedcoms()\n",
    "infos = get_stock_info(coms_list=coms_list, from_date=get_yesterday(), end_date=get_now())\n",
    "print(infos)"
   ]
  }
 ],
 "metadata": {
  "kernelspec": {
   "display_name": "Python 3 (ipykernel)",
   "language": "python",
   "name": "python3"
  },
  "language_info": {
   "codemirror_mode": {
    "name": "ipython",
    "version": 3
   },
   "file_extension": ".py",
   "mimetype": "text/x-python",
   "name": "python",
   "nbconvert_exporter": "python",
   "pygments_lexer": "ipython3",
   "version": "3.11.2"
  }
 },
 "nbformat": 4,
 "nbformat_minor": 5
}
