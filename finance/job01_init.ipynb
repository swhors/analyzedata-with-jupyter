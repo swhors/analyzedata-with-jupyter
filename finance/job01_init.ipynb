{
 "cells": [
  {
   "cell_type": "code",
   "execution_count": 2,
   "id": "2d8432ab-0b95-4917-8b67-a58370364568",
   "metadata": {},
   "outputs": [],
   "source": [
    "# import library\n",
    "import os\n",
    "from util import get_before_ndays\n",
    "from service.wanted_com_util import get_wantedcoms\n",
    "from service.fdr_svc import get_stock_info\n",
    "from service.market_value import inset_market_values, insert_market_values"
   ]
  },
  {
   "cell_type": "code",
   "execution_count": 3,
   "id": "29bf7d65-5108-4378-95f4-3c94a6180916",
   "metadata": {},
   "outputs": [
    {
     "name": "stdout",
     "output_type": "stream",
     "text": [
      "----- started -----\n",
      "current_path = /home/swhors/jupyter-workspace/finance\n",
      "-----completed-----\n"
     ]
    }
   ],
   "source": [
    "print('----- started -----')\n",
    "coms_list = get_wantedcoms()\n",
    "for i in range(61, -1, -1):\n",
    "    pre, cur = get_before_ndays(i)\n",
    "    infos = get_stock_info(coms_list=coms_list, from_date=pre, end_date=cur)\n",
    "    insert_market_values(infos)\n",
    "print('-----completed-----')"
   ]
  }
 ],
 "metadata": {
  "kernelspec": {
   "display_name": "Python 3 (ipykernel)",
   "language": "python",
   "name": "python3"
  },
  "language_info": {
   "codemirror_mode": {
    "name": "ipython",
    "version": 3
   },
   "file_extension": ".py",
   "mimetype": "text/x-python",
   "name": "python",
   "nbconvert_exporter": "python",
   "pygments_lexer": "ipython3",
   "version": "3.11.2"
  }
 },
 "nbformat": 4,
 "nbformat_minor": 5
}
