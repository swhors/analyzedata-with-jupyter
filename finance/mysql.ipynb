{
 "cells": [
  {
   "cell_type": "code",
   "execution_count": null,
   "id": "7556bb31-5ad7-4e14-9c5b-4aa64835f9b6",
   "metadata": {},
   "outputs": [],
   "source": [
    "!sudo apt install mariadb-server mariadb-client-core-10.6\n",
    "!pip install pymysql import-ipynb ipynb"
   ]
  },
  {
   "cell_type": "code",
   "execution_count": null,
   "id": "0f238ef1-c075-4524-96e8-46ecaa358e4d",
   "metadata": {},
   "outputs": [],
   "source": [
    "# db configuration\n",
    "db_host=\"127.0.0.1\"\n",
    "db_port=3306\n",
    "db_user=\"tester\"\n",
    "db_passwd=\"aq1234\"\n",
    "db_db=\"finance\"\n",
    "charset=\"utf8\""
   ]
  },
  {
   "cell_type": "code",
   "execution_count": null,
   "id": "9e27651c-a103-4d82-bb48-98215c741921",
   "metadata": {},
   "outputs": [],
   "source": [
    "# import library\n",
    "import pymysql\n",
    "import os\n",
    "import FinanceDataReader as fdr\n",
    "conn = None"
   ]
  },
  {
   "cell_type": "code",
   "execution_count": null,
   "id": "6c44721e-1bf7-417a-b280-841f83a46480",
   "metadata": {},
   "outputs": [],
   "source": [
    "# db connect\n",
    "def db_init():\n",
    "    global conn\n",
    "    conn = pymysql.connect(host=db_host, user=db_user, password=db_passwd, db=db_db, charset=charset)\n",
    "    return conn"
   ]
  },
  {
   "cell_type": "code",
   "execution_count": null,
   "id": "693e8489-a22c-44c8-b121-79444c4cc4e5",
   "metadata": {},
   "outputs": [],
   "source": [
    "# close connection\n",
    "def db_fint(conn):\n",
    "    if conn != None:\n",
    "        conn.close()"
   ]
  },
  {
   "cell_type": "code",
   "execution_count": null,
   "id": "b0e29a82-f71e-4a5a-9071-0b6dd70387dd",
   "metadata": {},
   "outputs": [],
   "source": [
    "# select data\n",
    "def get_all(conn) -> []:\n",
    "    cur = conn.cursor()\n",
    "    stocks = []\n",
    "    cur.execute(\"select * from finance.stock_list;\")\n",
    "    rows = cur.fetchall()\n",
    "    print(f'fetched data = {len(rows)}')\n",
    "    for row in rows:\n",
    "        print(row)\n",
    "    # if len(row) > 0:\n",
    "    cur.close()\n",
    "    return stocks"
   ]
  },
  {
   "cell_type": "code",
   "execution_count": null,
   "id": "1ea8a5c4-a548-49d9-ae3c-936d8ce02135",
   "metadata": {},
   "outputs": [],
   "source": [
    "def put_datas(conn, stocks):\n",
    "    cur = conn.cursor()\n",
    "    for stock in stocks:\n",
    "        cmd = f\"insert into finance.stock_list values({str(stock)})\"\n",
    "        cur.execute(cmd)\n",
    "    cur.commit()\n",
    "    cur.close()"
   ]
  },
  {
   "cell_type": "code",
   "execution_count": null,
   "id": "f4fa6b94-1424-4d31-aac0-7a02ba5e9375",
   "metadata": {},
   "outputs": [],
   "source": [
    "def readers_2_stocks():\n",
    "    from stock import Stock\n",
    "    from importlib import reload\n",
    "    reload(Stock)\n",
    "    all_stocks = []\n",
    "    korea_markets = ['KOSPI-DESC', 'KOSDAQ-DESC', 'KONEX-DESC'] # KOSPI: 940 종목, KOSDAQ: 1,597 종목, KONEX: 126 종목\n",
    "    for market in korea_markets:\n",
    "        #stocks = fdr.StockListing(market) # KOSPI: 940 종목\n",
    "        #stock_dict = stocks.to_dict('records')\n",
    "        #for d in stock_dict:\n",
    "            #print(f'{type(d)}, {d}')\n",
    "            #all_stocks.append(Stock.dict_2_stock(d))\n",
    "        # all_stocks.extend(stocks)\n",
    "        print(f'{market}')\n",
    "        stock = Stock(market,\"\",\"\",\"\",\"\",\"\",\"\",\"\",\"\")\n",
    "        print(f'{stock}')\n",
    "    return all_stocks"
   ]
  },
  {
   "cell_type": "code",
   "execution_count": null,
   "id": "c79bd27e-dc1b-4f68-9dd5-e818337671f5",
   "metadata": {},
   "outputs": [],
   "source": [
    "#con1 = db_init()\n",
    "#get_all(con1)\n",
    "#db_fint(con1)\n",
    "#conn = None"
   ]
  },
  {
   "cell_type": "code",
   "execution_count": null,
   "id": "cbf0d898-62fb-461b-8dcb-a73797fe9d87",
   "metadata": {},
   "outputs": [],
   "source": [
    "all_stocks=readers_2_stocks()"
   ]
  },
  {
   "cell_type": "code",
   "execution_count": null,
   "id": "d78774eb-efb1-411c-bfbd-a09eab6ff134",
   "metadata": {},
   "outputs": [],
   "source": []
  }
 ],
 "metadata": {
  "kernelspec": {
   "display_name": "Python 3 (ipykernel)",
   "language": "python",
   "name": "python3"
  },
  "language_info": {
   "codemirror_mode": {
    "name": "ipython",
    "version": 3
   },
   "file_extension": ".py",
   "mimetype": "text/x-python",
   "name": "python",
   "nbconvert_exporter": "python",
   "pygments_lexer": "ipython3",
   "version": "3.11.2"
  }
 },
 "nbformat": 4,
 "nbformat_minor": 5
}
