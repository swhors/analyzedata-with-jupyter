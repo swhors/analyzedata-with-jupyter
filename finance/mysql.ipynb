{
 "cells": [
  {
   "cell_type": "code",
   "execution_count": 48,
   "id": "085455e7-c082-4359-b80b-551d7c06c221",
   "metadata": {},
   "outputs": [
    {
     "name": "stdout",
     "output_type": "stream",
     "text": [
      "Reading package lists... Done\n",
      "Building dependency tree... Done\n",
      "Reading state information... Done\n",
      "mariadb-client-core-10.6 is already the newest version (1:10.6.18-0ubuntu0.22.04.1).\n",
      "mariadb-server is already the newest version (1:10.6.18-0ubuntu0.22.04.1).\n",
      "The following packages were automatically installed and are no longer required:\n",
      "  linux-azure-6.5-cloud-tools-6.5.0-1019\n",
      "  linux-azure-6.5-cloud-tools-6.5.0-1021\n",
      "  linux-azure-6.5-cloud-tools-6.5.0-1022 linux-azure-6.5-headers-6.5.0-1019\n",
      "  linux-azure-6.5-headers-6.5.0-1021 linux-azure-6.5-headers-6.5.0-1022\n",
      "  linux-azure-6.5-tools-6.5.0-1019 linux-azure-6.5-tools-6.5.0-1021\n",
      "  linux-azure-6.5-tools-6.5.0-1022 linux-cloud-tools-6.5.0-1019-azure\n",
      "  linux-cloud-tools-6.5.0-1021-azure linux-cloud-tools-6.5.0-1022-azure\n",
      "  linux-headers-6.5.0-1019-azure linux-headers-6.5.0-1021-azure\n",
      "  linux-headers-6.5.0-1022-azure linux-image-6.5.0-1019-azure\n",
      "  linux-image-6.5.0-1021-azure linux-image-6.5.0-1022-azure\n",
      "  linux-modules-6.5.0-1019-azure linux-modules-6.5.0-1021-azure\n",
      "  linux-modules-6.5.0-1022-azure linux-tools-6.5.0-1019-azure\n",
      "  linux-tools-6.5.0-1021-azure linux-tools-6.5.0-1022-azure\n",
      "Use 'sudo apt autoremove' to remove them.\n",
      "0 upgraded, 0 newly installed, 0 to remove and 33 not upgraded.\n",
      "Defaulting to user installation because normal site-packages is not writeable\n",
      "Requirement already satisfied: pymysql in ./venv/lib/python3.10/site-packages (1.1.1)\n",
      "Requirement already satisfied: import-ipynb in ./venv/lib/python3.10/site-packages (0.1.4)\n",
      "Requirement already satisfied: ipynb in ./venv/lib/python3.10/site-packages (0.5.1)\n",
      "Requirement already satisfied: IPython in ./venv/lib/python3.10/site-packages (from import-ipynb) (8.27.0)\n",
      "Requirement already satisfied: nbformat in ./venv/lib/python3.10/site-packages (from import-ipynb) (5.10.4)\n",
      "Requirement already satisfied: decorator in ./venv/lib/python3.10/site-packages (from IPython->import-ipynb) (5.1.1)\n",
      "Requirement already satisfied: jedi>=0.16 in ./venv/lib/python3.10/site-packages (from IPython->import-ipynb) (0.19.1)\n",
      "Requirement already satisfied: prompt-toolkit<3.1.0,>=3.0.41 in ./venv/lib/python3.10/site-packages (from IPython->import-ipynb) (3.0.47)\n",
      "Requirement already satisfied: matplotlib-inline in ./venv/lib/python3.10/site-packages (from IPython->import-ipynb) (0.1.7)\n",
      "Requirement already satisfied: typing-extensions>=4.6 in ./venv/lib/python3.10/site-packages (from IPython->import-ipynb) (4.12.2)\n",
      "Requirement already satisfied: pygments>=2.4.0 in ./venv/lib/python3.10/site-packages (from IPython->import-ipynb) (2.18.0)\n",
      "Requirement already satisfied: exceptiongroup in ./venv/lib/python3.10/site-packages (from IPython->import-ipynb) (1.2.2)\n",
      "Requirement already satisfied: pexpect>4.3 in ./venv/lib/python3.10/site-packages (from IPython->import-ipynb) (4.9.0)\n",
      "Requirement already satisfied: traitlets>=5.13.0 in ./venv/lib/python3.10/site-packages (from IPython->import-ipynb) (5.14.3)\n",
      "Requirement already satisfied: stack-data in ./venv/lib/python3.10/site-packages (from IPython->import-ipynb) (0.6.3)\n",
      "Requirement already satisfied: jsonschema>=2.6 in ./venv/lib/python3.10/site-packages (from nbformat->import-ipynb) (4.23.0)\n",
      "Requirement already satisfied: fastjsonschema>=2.15 in ./venv/lib/python3.10/site-packages (from nbformat->import-ipynb) (2.20.0)\n",
      "Requirement already satisfied: jupyter-core!=5.0.*,>=4.12 in ./venv/lib/python3.10/site-packages (from nbformat->import-ipynb) (5.7.2)\n",
      "Requirement already satisfied: parso<0.9.0,>=0.8.3 in ./venv/lib/python3.10/site-packages (from jedi>=0.16->IPython->import-ipynb) (0.8.4)\n",
      "Requirement already satisfied: referencing>=0.28.4 in ./venv/lib/python3.10/site-packages (from jsonschema>=2.6->nbformat->import-ipynb) (0.35.1)\n",
      "Requirement already satisfied: attrs>=22.2.0 in ./venv/lib/python3.10/site-packages (from jsonschema>=2.6->nbformat->import-ipynb) (24.2.0)\n",
      "Requirement already satisfied: jsonschema-specifications>=2023.03.6 in ./venv/lib/python3.10/site-packages (from jsonschema>=2.6->nbformat->import-ipynb) (2023.12.1)\n",
      "Requirement already satisfied: rpds-py>=0.7.1 in ./venv/lib/python3.10/site-packages (from jsonschema>=2.6->nbformat->import-ipynb) (0.20.0)\n",
      "Requirement already satisfied: platformdirs>=2.5 in ./venv/lib/python3.10/site-packages (from jupyter-core!=5.0.*,>=4.12->nbformat->import-ipynb) (4.2.2)\n",
      "Requirement already satisfied: ptyprocess>=0.5 in ./venv/lib/python3.10/site-packages (from pexpect>4.3->IPython->import-ipynb) (0.7.0)\n",
      "Requirement already satisfied: wcwidth in ./venv/lib/python3.10/site-packages (from prompt-toolkit<3.1.0,>=3.0.41->IPython->import-ipynb) (0.2.13)\n",
      "Requirement already satisfied: executing>=1.2.0 in ./venv/lib/python3.10/site-packages (from stack-data->IPython->import-ipynb) (2.1.0)\n",
      "Requirement already satisfied: asttokens>=2.1.0 in ./venv/lib/python3.10/site-packages (from stack-data->IPython->import-ipynb) (2.4.1)\n",
      "Requirement already satisfied: pure-eval in ./venv/lib/python3.10/site-packages (from stack-data->IPython->import-ipynb) (0.2.3)\n",
      "Requirement already satisfied: six>=1.12.0 in ./venv/lib/python3.10/site-packages (from asttokens>=2.1.0->stack-data->IPython->import-ipynb) (1.16.0)\n"
     ]
    }
   ],
   "source": [
    "!sudo apt install mariadb-server mariadb-client-core-10.6\n",
    "!pip install pymysql import-ipynb ipynb"
   ]
  },
  {
   "cell_type": "code",
   "execution_count": 63,
   "id": "dc638e13-2916-49bb-899a-921a344acc5d",
   "metadata": {},
   "outputs": [],
   "source": [
    "# db configuration\n",
    "db_host=\"127.0.0.1\"\n",
    "db_port=3306\n",
    "db_user=\"tester\"\n",
    "db_passwd=\"aq1234\"\n",
    "db_db=\"finance\"\n",
    "charset=\"utf8\""
   ]
  },
  {
   "cell_type": "code",
   "execution_count": 121,
   "id": "a3c7457c-c13e-496a-b4df-ab56770a35ab",
   "metadata": {},
   "outputs": [],
   "source": [
    "# import library\n",
    "import pymysql\n",
    "import os\n",
    "import FinanceDataReader as fdr\n",
    "conn = None"
   ]
  },
  {
   "cell_type": "code",
   "execution_count": 103,
   "id": "6998b21a-c2ed-4a39-9802-941101cb438f",
   "metadata": {},
   "outputs": [],
   "source": [
    "# db connect\n",
    "def db_init():\n",
    "    global conn\n",
    "    conn = pymysql.connect(host=db_host, user=db_user, password=db_passwd, db=db_db, charset=charset)\n",
    "    return conn"
   ]
  },
  {
   "cell_type": "code",
   "execution_count": 104,
   "id": "f2b72158-35f6-4161-8f10-4226b94513c1",
   "metadata": {},
   "outputs": [],
   "source": [
    "# close connection\n",
    "def db_fint(conn):\n",
    "    if conn != None:\n",
    "        conn.close()"
   ]
  },
  {
   "cell_type": "code",
   "execution_count": 105,
   "id": "df5570d6-cb54-4e4b-9286-efa53bf348fa",
   "metadata": {},
   "outputs": [],
   "source": [
    "# select data\n",
    "def get_all(conn) -> []:\n",
    "    cur = conn.cursor()\n",
    "    stocks = []\n",
    "    cur.execute(\"select * from finance.stock_list;\")\n",
    "    rows = cur.fetchall()\n",
    "    print(f'fetched data = {len(rows)}')\n",
    "    for row in rows:\n",
    "        print(row)\n",
    "    # if len(row) > 0:\n",
    "    cur.close()\n",
    "    return stocks"
   ]
  },
  {
   "cell_type": "code",
   "execution_count": 106,
   "id": "845ab34b-bb75-48b6-8829-318774bee3c3",
   "metadata": {},
   "outputs": [],
   "source": [
    "def put_datas(conn, stocks):\n",
    "    cur = conn.cursor()\n",
    "    for stock in stocks:\n",
    "        cmd = f\"insert into finance.stock_list values({str(stock)})\"\n",
    "        cur.execute(cmd)\n",
    "    cur.commit()\n",
    "    cur.close()"
   ]
  },
  {
   "cell_type": "code",
   "execution_count": 58,
   "id": "bb091e74-f163-4391-965b-286032ddb80f",
   "metadata": {},
   "outputs": [],
   "source": [
    "def readers_2_stocks():\n",
    "    from stock import Stock\n",
    "    from importlib import reload\n",
    "    reload(Stock)\n",
    "    all_stocks = []\n",
    "    korea_markets = ['KOSPI-DESC', 'KOSDAQ-DESC', 'KONEX-DESC'] # KOSPI: 940 종목, KOSDAQ: 1,597 종목, KONEX: 126 종목\n",
    "    for market in korea_markets:\n",
    "        #stocks = fdr.StockListing(market) # KOSPI: 940 종목\n",
    "        #stock_dict = stocks.to_dict('records')\n",
    "        #for d in stock_dict:\n",
    "            #print(f'{type(d)}, {d}')\n",
    "            #all_stocks.append(Stock.dict_2_stock(d))\n",
    "        # all_stocks.extend(stocks)\n",
    "        print(f'{market}')\n",
    "        stock = Stock(market,\"\",\"\",\"\",\"\",\"\",\"\",\"\",\"\")\n",
    "        print(f'{stock}')\n",
    "    return all_stocks"
   ]
  },
  {
   "cell_type": "code",
   "execution_count": 2,
   "id": "e1723252-39cf-498f-a77b-630f6a4658b6",
   "metadata": {},
   "outputs": [],
   "source": [
    "#con1 = db_init()\n",
    "#get_all(con1)\n",
    "#db_fint(con1)\n",
    "#conn = None"
   ]
  },
  {
   "cell_type": "code",
   "execution_count": 59,
   "id": "a116871e-5243-41f3-a19a-b5085421861b",
   "metadata": {},
   "outputs": [
    {
     "ename": "ImportError",
     "evalue": "module Stock not in sys.modules",
     "output_type": "error",
     "traceback": [
      "\u001b[0;31m---------------------------------------------------------------------------\u001b[0m",
      "\u001b[0;31mImportError\u001b[0m                               Traceback (most recent call last)",
      "Cell \u001b[0;32mIn[59], line 1\u001b[0m\n\u001b[0;32m----> 1\u001b[0m all_stocks\u001b[38;5;241m=\u001b[39m\u001b[43mreaders_2_stocks\u001b[49m\u001b[43m(\u001b[49m\u001b[43m)\u001b[49m\n",
      "Cell \u001b[0;32mIn[58], line 4\u001b[0m, in \u001b[0;36mreaders_2_stocks\u001b[0;34m()\u001b[0m\n\u001b[1;32m      2\u001b[0m \u001b[38;5;28;01mfrom\u001b[39;00m \u001b[38;5;21;01mstock\u001b[39;00m \u001b[38;5;28;01mimport\u001b[39;00m Stock\n\u001b[1;32m      3\u001b[0m \u001b[38;5;28;01mfrom\u001b[39;00m \u001b[38;5;21;01mimportlib\u001b[39;00m \u001b[38;5;28;01mimport\u001b[39;00m reload\n\u001b[0;32m----> 4\u001b[0m \u001b[43mreload\u001b[49m\u001b[43m(\u001b[49m\u001b[43mStock\u001b[49m\u001b[43m)\u001b[49m\n\u001b[1;32m      5\u001b[0m all_stocks \u001b[38;5;241m=\u001b[39m []\n\u001b[1;32m      6\u001b[0m korea_markets \u001b[38;5;241m=\u001b[39m [\u001b[38;5;124m'\u001b[39m\u001b[38;5;124mKOSPI-DESC\u001b[39m\u001b[38;5;124m'\u001b[39m, \u001b[38;5;124m'\u001b[39m\u001b[38;5;124mKOSDAQ-DESC\u001b[39m\u001b[38;5;124m'\u001b[39m, \u001b[38;5;124m'\u001b[39m\u001b[38;5;124mKONEX-DESC\u001b[39m\u001b[38;5;124m'\u001b[39m] \u001b[38;5;66;03m# KOSPI: 940 종목, KOSDAQ: 1,597 종목, KONEX: 126 종목\u001b[39;00m\n",
      "File \u001b[0;32m/usr/lib/python3.10/importlib/__init__.py:148\u001b[0m, in \u001b[0;36mreload\u001b[0;34m(module)\u001b[0m\n\u001b[1;32m    146\u001b[0m \u001b[38;5;28;01mif\u001b[39;00m sys\u001b[38;5;241m.\u001b[39mmodules\u001b[38;5;241m.\u001b[39mget(name) \u001b[38;5;129;01mis\u001b[39;00m \u001b[38;5;129;01mnot\u001b[39;00m module:\n\u001b[1;32m    147\u001b[0m     msg \u001b[38;5;241m=\u001b[39m \u001b[38;5;124m\"\u001b[39m\u001b[38;5;124mmodule \u001b[39m\u001b[38;5;132;01m{}\u001b[39;00m\u001b[38;5;124m not in sys.modules\u001b[39m\u001b[38;5;124m\"\u001b[39m\n\u001b[0;32m--> 148\u001b[0m     \u001b[38;5;28;01mraise\u001b[39;00m \u001b[38;5;167;01mImportError\u001b[39;00m(msg\u001b[38;5;241m.\u001b[39mformat(name), name\u001b[38;5;241m=\u001b[39mname)\n\u001b[1;32m    149\u001b[0m \u001b[38;5;28;01mif\u001b[39;00m name \u001b[38;5;129;01min\u001b[39;00m _RELOADING:\n\u001b[1;32m    150\u001b[0m     \u001b[38;5;28;01mreturn\u001b[39;00m _RELOADING[name]\n",
      "\u001b[0;31mImportError\u001b[0m: module Stock not in sys.modules"
     ]
    }
   ],
   "source": [
    "all_stocks=readers_2_stocks()"
   ]
  },
  {
   "cell_type": "code",
   "execution_count": null,
   "id": "f1f1914f-75fe-4eae-b09b-c95ecf416107",
   "metadata": {},
   "outputs": [],
   "source": []
  }
 ],
 "metadata": {
  "kernelspec": {
   "display_name": "Python 3 (ipykernel)",
   "language": "python",
   "name": "python3"
  },
  "language_info": {
   "codemirror_mode": {
    "name": "ipython",
    "version": 3
   },
   "file_extension": ".py",
   "mimetype": "text/x-python",
   "name": "python",
   "nbconvert_exporter": "python",
   "pygments_lexer": "ipython3",
   "version": "3.10.12"
  }
 },
 "nbformat": 4,
 "nbformat_minor": 5
}
