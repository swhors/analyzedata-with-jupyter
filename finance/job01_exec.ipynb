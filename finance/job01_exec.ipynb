{
 "cells": [
  {
   "cell_type": "code",
   "execution_count": 17,
   "id": "2d8432ab-0b95-4917-8b67-a58370364568",
   "metadata": {},
   "outputs": [],
   "source": [
    "import os\n",
    "# set python_path\n",
    "user_home = os.environ[\"HOME\"]\n",
    "python_path=os.environ[\"PYTHONPATH\"]\n",
    "os.environ[\"PYTHONPATH\"] = f'{user_home}/jupyter-workspace/finance:{python_path}'"
   ]
  },
  {
   "cell_type": "code",
   "execution_count": 18,
   "id": "2d4f7b20-a42c-45fe-a450-2c9be70b4861",
   "metadata": {},
   "outputs": [],
   "source": [
    "# import library\n",
    "from util import get_yesterday, get_now\n",
    "from service.wanted_com_util import get_wantedcoms\n",
    "from service.fdr_svc import get_stock_info\n",
    "from service.market_value import inset_market_values, inset_market_values"
   ]
  },
  {
   "cell_type": "code",
   "execution_count": 19,
   "id": "29bf7d65-5108-4378-95f4-3c94a6180916",
   "metadata": {},
   "outputs": [
    {
     "name": "stdout",
     "output_type": "stream",
     "text": [
      "-----  started  -----\n",
      "\n",
      "current_path = /home/swhors/jupyter-workspace/finance\n",
      "----- completed -----\n",
      "\n"
     ]
    }
   ],
   "source": [
    "print('-----  started  -----\\n')\n",
    "coms_list = get_wantedcoms()\n",
    "infos = get_stock_info(coms_list=coms_list, from_date=get_yesterday(), end_date=get_now())\n",
    "inset_market_values(infos)\n",
    "print('----- completed -----\\n')"
   ]
  },
  {
   "cell_type": "code",
   "execution_count": null,
   "id": "41841f12-67ee-4c66-b3d2-d4e23fd9bcc2",
   "metadata": {},
   "outputs": [],
   "source": []
  }
 ],
 "metadata": {
  "kernelspec": {
   "display_name": "Python 3 (ipykernel)",
   "language": "python",
   "name": "python3"
  },
  "language_info": {
   "codemirror_mode": {
    "name": "ipython",
    "version": 3
   },
   "file_extension": ".py",
   "mimetype": "text/x-python",
   "name": "python",
   "nbconvert_exporter": "python",
   "pygments_lexer": "ipython3",
   "version": "3.11.2"
  }
 },
 "nbformat": 4,
 "nbformat_minor": 5
}
