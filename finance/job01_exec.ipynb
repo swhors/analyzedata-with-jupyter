{
 "cells": [
  {
   "cell_type": "code",
   "execution_count": 1,
   "id": "2d8432ab-0b95-4917-8b67-a58370364568",
   "metadata": {},
   "outputs": [],
   "source": [
    "import os\n",
    "# set python_path\n",
    "user_home = os.environ[\"HOME\"]\n",
    "python_path=os.environ[\"PYTHONPATH\"]\n",
    "os.environ[\"PYTHONPATH\"] = f'{user_home}/jupyter-workspace/finance:{python_path}'"
   ]
  },
  {
   "cell_type": "code",
   "execution_count": 2,
   "id": "2d4f7b20-a42c-45fe-a450-2c9be70b4861",
   "metadata": {},
   "outputs": [],
   "source": [
    "# import library\n",
    "from util import get_yesterday, get_now\n",
    "from service.wanted_com_util import get_wantedcoms\n",
    "from service.fdr_svc import get_stock_info\n",
    "from service.market_value import insert_market_values, insert_market_value\n",
    "from service.graphite_svc import send_metric"
   ]
  },
  {
   "cell_type": "code",
   "execution_count": 3,
   "id": "29bf7d65-5108-4378-95f4-3c94a6180916",
   "metadata": {},
   "outputs": [
    {
     "name": "stdout",
     "output_type": "stream",
     "text": [
      "-----  started  -----\n",
      "\n",
      "current_path = /home/swhors/jupyter-workspace/finance\n",
      "\"0\", \"105560\", \"77900\", \"78400\", \"77300\", \"78100\", \"1639298\", \"0.0025673940949935137\", \"2024-09-11\"\n"
     ]
    },
    {
     "ename": "AttributeError",
     "evalue": "type object 'datetime.datetime' has no attribute 'datetime'",
     "output_type": "error",
     "traceback": [
      "\u001b[0;31m---------------------------------------------------------------------------\u001b[0m",
      "\u001b[0;31mAttributeError\u001b[0m                            Traceback (most recent call last)",
      "Cell \u001b[0;32mIn[3], line 7\u001b[0m\n\u001b[1;32m      5\u001b[0m \u001b[38;5;28;01mfor\u001b[39;00m info \u001b[38;5;129;01min\u001b[39;00m infos:\n\u001b[1;32m      6\u001b[0m     \u001b[38;5;28mprint\u001b[39m(\u001b[38;5;28mstr\u001b[39m(info))\n\u001b[0;32m----> 7\u001b[0m     \u001b[43msend_metric\u001b[49m\u001b[43m(\u001b[49m\u001b[43minfo\u001b[49m\u001b[43m)\u001b[49m\n\u001b[1;32m      8\u001b[0m \u001b[38;5;28mprint\u001b[39m(\u001b[38;5;124m'\u001b[39m\u001b[38;5;124m----- completed -----\u001b[39m\u001b[38;5;130;01m\\n\u001b[39;00m\u001b[38;5;124m'\u001b[39m)\n",
      "File \u001b[0;32m~/jupyter-workspace/finance/service/graphite_svc.py:15\u001b[0m, in \u001b[0;36msend_metric\u001b[0;34m(market_value)\u001b[0m\n\u001b[1;32m     13\u001b[0m HOST \u001b[38;5;241m=\u001b[39m \u001b[38;5;124m'\u001b[39m\u001b[38;5;124mlocalhost\u001b[39m\u001b[38;5;124m'\u001b[39m \u001b[38;5;66;03m## server에 출력되는 ip를 입력해주세요 ##\u001b[39;00m\n\u001b[1;32m     14\u001b[0m PORT \u001b[38;5;241m=\u001b[39m \u001b[38;5;241m2003\u001b[39m\n\u001b[0;32m---> 15\u001b[0m dt \u001b[38;5;241m=\u001b[39m \u001b[43mdate_2_datetime\u001b[49m\u001b[43m(\u001b[49m\u001b[43mmarket_value\u001b[49m\u001b[38;5;241;43m.\u001b[39;49m\u001b[43mupdated\u001b[49m\u001b[43m)\u001b[49m\n\u001b[1;32m     16\u001b[0m metric \u001b[38;5;241m=\u001b[39m \u001b[38;5;124mf\u001b[39m\u001b[38;5;124m'\u001b[39m\u001b[38;5;124mfinance.open.\u001b[39m\u001b[38;5;132;01m{\u001b[39;00mmarket_value\u001b[38;5;241m.\u001b[39mcode\u001b[38;5;132;01m}\u001b[39;00m\u001b[38;5;124m \u001b[39m\u001b[38;5;132;01m{\u001b[39;00mmarket_value\u001b[38;5;241m.\u001b[39mopen_v\u001b[38;5;132;01m}\u001b[39;00m\u001b[38;5;124m \u001b[39m\u001b[38;5;132;01m{\u001b[39;00m\u001b[38;5;28mint\u001b[39m(dt\u001b[38;5;241m.\u001b[39mtimestamp())\u001b[38;5;132;01m}\u001b[39;00m\u001b[38;5;124m'\u001b[39m\n\u001b[1;32m     17\u001b[0m \u001b[38;5;28mprint\u001b[39m(\u001b[38;5;124mf\u001b[39m\u001b[38;5;124m'\u001b[39m\u001b[38;5;124mmetric = \u001b[39m\u001b[38;5;132;01m{\u001b[39;00mmetric\u001b[38;5;132;01m}\u001b[39;00m\u001b[38;5;124m'\u001b[39m)\n",
      "File \u001b[0;32m~/jupyter-workspace/finance/service/graphite_svc.py:9\u001b[0m, in \u001b[0;36mdate_2_datetime\u001b[0;34m(_date)\u001b[0m\n\u001b[1;32m      7\u001b[0m \u001b[38;5;28;01mdef\u001b[39;00m \u001b[38;5;21mdate_2_datetime\u001b[39m(_date):\n\u001b[1;32m      8\u001b[0m     args \u001b[38;5;241m=\u001b[39m _date\u001b[38;5;241m.\u001b[39mtimetuple()[:\u001b[38;5;241m6\u001b[39m]\n\u001b[0;32m----> 9\u001b[0m     \u001b[38;5;28;01mreturn\u001b[39;00m \u001b[43mdatetime\u001b[49m\u001b[38;5;241;43m.\u001b[39;49m\u001b[43mdatetime\u001b[49m(\u001b[38;5;241m*\u001b[39margs)\n",
      "\u001b[0;31mAttributeError\u001b[0m: type object 'datetime.datetime' has no attribute 'datetime'"
     ]
    }
   ],
   "source": [
    "print('-----  started  -----\\n')\n",
    "coms_list = get_wantedcoms()\n",
    "infos = get_stock_info(coms_list=coms_list, from_date=get_yesterday(), end_date=get_now())\n",
    "insert_market_values(infos)\n",
    "for info in infos:\n",
    "    print(str(info))\n",
    "    send_metric(info)\n",
    "print('----- completed -----\\n')"
   ]
  },
  {
   "cell_type": "code",
   "execution_count": null,
   "id": "41841f12-67ee-4c66-b3d2-d4e23fd9bcc2",
   "metadata": {},
   "outputs": [],
   "source": []
  }
 ],
 "metadata": {
  "kernelspec": {
   "display_name": "Python 3 (ipykernel)",
   "language": "python",
   "name": "python3"
  },
  "language_info": {
   "codemirror_mode": {
    "name": "ipython",
    "version": 3
   },
   "file_extension": ".py",
   "mimetype": "text/x-python",
   "name": "python",
   "nbconvert_exporter": "python",
   "pygments_lexer": "ipython3",
   "version": "3.11.2"
  }
 },
 "nbformat": 4,
 "nbformat_minor": 5
}
