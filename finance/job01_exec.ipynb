{
 "cells": [
  {
   "cell_type": "code",
   "execution_count": 1,
   "id": "2d8432ab-0b95-4917-8b67-a58370364568",
   "metadata": {},
   "outputs": [],
   "source": [
    "import os\n",
    "# set python_path\n",
    "user_home = os.environ[\"HOME\"]\n",
    "python_path=os.environ[\"PYTHONPATH\"]\n",
    "os.environ[\"PYTHONPATH\"] = f'{user_home}/jupyter-workspace/finance:{python_path}'"
   ]
  },
  {
   "cell_type": "code",
   "execution_count": 2,
   "id": "2d4f7b20-a42c-45fe-a450-2c9be70b4861",
   "metadata": {},
   "outputs": [],
   "source": [
    "# import library\n",
    "from util import get_yesterday, get_now\n",
    "from service.wanted_com_util import get_wantedcoms\n",
    "from service.fdr_svc import get_stock_info\n",
    "from service.market_value import insert_market_values, insert_market_value\n",
    "from service.graphite_svc import send_metric"
   ]
  },
  {
   "cell_type": "code",
   "execution_count": 3,
   "id": "29bf7d65-5108-4378-95f4-3c94a6180916",
   "metadata": {},
   "outputs": [
    {
     "name": "stdout",
     "output_type": "stream",
     "text": [
      "-----  started  -----\n",
      "\n",
      "current_path = /home/swhors/jupyter-workspace/finance\n",
      "\"0\", \"105560\", \"79000\", \"81300\", \"79000\", \"81000\", \"686647\", \"0.03713188220230479\", \"2024-09-12\"\n",
      "metric = finance._105560_.open 79000.0 1726070400\n",
      "finance._105560_.high 81300.0 1726070400\n",
      "finance._105560_.low 79000.0 1726070400\n",
      "finance._105560_.close 81000.0 1726070400\n",
      "finance._105560_.volume 686647.0 1726070400\n",
      "finance._105560_.change 0.03713188220230479 1726070400\n",
      "\n",
      "\"0\", \"139050\", \"0\", \"0\", \"0\", \"2805\", \"0\", \"0.0\", \"2024-09-12\"\n",
      "metric = finance._139050_.open 0.0 1726070400\n",
      "finance._139050_.high 0.0 1726070400\n",
      "finance._139050_.low 0.0 1726070400\n",
      "finance._139050_.close 2805.0 1726070400\n",
      "finance._139050_.volume 0.0 1726070400\n",
      "finance._139050_.change 0.0 1726070400\n",
      "\n",
      "\"0\", \"006400\", \"365000\", \"371000\", \"360500\", \"361500\", \"166870\", \"-0.006868131868131844\", \"2024-09-12\"\n",
      "metric = finance._006400_.open 365000.0 1726070400\n",
      "finance._006400_.high 371000.0 1726070400\n",
      "finance._006400_.low 360500.0 1726070400\n",
      "finance._006400_.close 361500.0 1726070400\n",
      "finance._006400_.volume 166870.0 1726070400\n",
      "finance._006400_.change -0.006868131868131844 1726070400\n",
      "\n",
      "----- completed -----\n",
      "\n"
     ]
    }
   ],
   "source": [
    "print('-----  started  -----\\n')\n",
    "coms_list = get_wantedcoms()\n",
    "infos = get_stock_info(coms_list=coms_list, from_date=get_yesterday(), end_date=get_now())\n",
    "insert_market_values(infos)\n",
    "for info in infos:\n",
    "    print(str(info))\n",
    "    send_metric(info)\n",
    "print('----- completed -----\\n')"
   ]
  },
  {
   "cell_type": "code",
   "execution_count": null,
   "id": "41841f12-67ee-4c66-b3d2-d4e23fd9bcc2",
   "metadata": {},
   "outputs": [],
   "source": []
  }
 ],
 "metadata": {
  "kernelspec": {
   "display_name": "Python 3 (ipykernel)",
   "language": "python",
   "name": "python3"
  },
  "language_info": {
   "codemirror_mode": {
    "name": "ipython",
    "version": 3
   },
   "file_extension": ".py",
   "mimetype": "text/x-python",
   "name": "python",
   "nbconvert_exporter": "python",
   "pygments_lexer": "ipython3",
   "version": "3.11.2"
  }
 },
 "nbformat": 4,
 "nbformat_minor": 5
}
