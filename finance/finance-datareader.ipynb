{
 "cells": [
  {
   "cell_type": "code",
   "execution_count": null,
   "id": "6ce8de42-0b44-46de-9aae-9f5e806ae1c9",
   "metadata": {},
   "outputs": [],
   "source": [
    "!pip install finance-datareader plotly numpy mathplot matplotlib"
   ]
  },
  {
   "cell_type": "code",
   "execution_count": null,
   "id": "b7c9b871-b7a2-4e6e-8f1b-d28709188a2e",
   "metadata": {},
   "outputs": [],
   "source": [
    "import os\n",
    "import FinanceDataReader as fdr\n",
    "\n",
    "print(os.name)"
   ]
  },
  {
   "cell_type": "code",
   "execution_count": null,
   "id": "750dffe5-9350-4e4b-89b4-fc35e45c3060",
   "metadata": {},
   "outputs": [],
   "source": [
    "# KOSPI Index 코스피 지수 데이터 \n",
    "df = fdr.DataReader('KS11', '2020') # 2020-01-01 ~ 현재\n",
    "df = fdr.DataReader('KS11', '2022-01-01', '2022-12-31') # 2022-01-01 ~ 2022-12-31"
   ]
  },
  {
   "cell_type": "code",
   "execution_count": null,
   "id": "544d08c8-5369-4208-8c30-60055598ede9",
   "metadata": {},
   "outputs": [],
   "source": [
    "# KRX Indices 국내 지수 데이터\n",
    "df = fdr.DataReader('KS11') # KOSPI 지수 (KRX)\n",
    "df = fdr.DataReader('KQ11') # KOSDAQ 지수 (KRX)\n",
    "df = fdr.DataReader('KS200') # KOSPI 200 (KRX)"
   ]
  },
  {
   "cell_type": "code",
   "execution_count": null,
   "id": "b6bd44a2-2f4a-48b2-89f4-5dfb19429c27",
   "metadata": {},
   "outputs": [],
   "source": [
    "# US market Indices 미국 시장 지수 데이터\n",
    "df = fdr.DataReader('DJI') # 다우존스 지수 (DJI - Dow Jones Industrial Average)\n",
    "df = fdr.DataReader('IXIC') # 나스닥 종합지수 (IXIC - NASDAQ Composite)\n",
    "df = fdr.DataReader('S&P500') # S&P500 지수 (NYSE)\n",
    "df = fdr.DataReader('RUT') # 러셀2000 지수 (RUT - US Small Cap 2000)\n",
    "df = fdr.DataReader('VIX') # VIX지수 (VIX - CBOE Volatility Index)"
   ]
  },
  {
   "cell_type": "code",
   "execution_count": null,
   "id": "6dd52707-c7dc-4708-848f-015e88df2937",
   "metadata": {},
   "outputs": [],
   "source": [
    "# Global Indices 글로벌 지수 데이터\n",
    "df = fdr.DataReader('SSEC') # 상해 종합지수 Shanghai (SSEC -Shanghai Composite)\n",
    "df = fdr.DataReader('HSI') # 항셍지수 (HSI - Hang Seng)\n",
    "df = fdr.DataReader('N225') # 일본 닛케이지수 (N225 - Nikkei 225)\n",
    "df = fdr.DataReader('FTSE') # 영국 FTSE100 (FTSE 100 - Financial Times Stock Exchange)\n",
    "df = fdr.DataReader('FCHI') # 프랑스 FCHI 지수 (CAC 40 - CAC quarante)\n",
    "df = fdr.DataReader('GDAXI') # 독일 닥스지수  (DAX30 - germany-30)"
   ]
  },
  {
   "cell_type": "code",
   "execution_count": null,
   "id": "49d010d2-b752-4d39-b127-6af94b7e9d8b",
   "metadata": {},
   "outputs": [],
   "source": [
    "# KRX stock price 국내 시장 개별종목\n",
    "df = fdr.DataReader('005930') # 삼성전자 전체 (1999년 ~ 현재)\n",
    "df = fdr.DataReader('000660') # SK하이닉스 전체 (1999년 ~ 현재)\n",
    "df = fdr.DataReader('068270') # 셀트리온 전체 (2004년 상장 ~ 현재)"
   ]
  },
  {
   "cell_type": "code",
   "execution_count": null,
   "id": "4489588b-5a66-4676-bf16-3c73f35351d4",
   "metadata": {},
   "outputs": [],
   "source": [
    "# 여러 종목 종가(Close) 한번에\n",
    "# 삼성전자(005930), SK하이닉스(000660), 기아(000270), 카카오(035720), KB금융(105560)\n",
    "df = fdr.DataReader('005930,000660,000270,035720,105560', '2020') # 2020년 ~ 현재"
   ]
  },
  {
   "cell_type": "code",
   "execution_count": null,
   "id": "667c929c-5310-41dc-be6b-0bca89df94c6",
   "metadata": {},
   "outputs": [],
   "source": [
    "# US stock price 미국 시장 개별종목\n",
    "df = fdr.DataReader('AAPL', '2017') # Apple(AAPL), 2017-01-01 ~ 현재\n",
    "df = fdr.DataReader('AMZN', '2017', '2019-12-31') # AMAZON(AMZN), 2017~2019 (3년)\n",
    "df = fdr.DataReader('F', '1980-01-01', '2023-10-01') # Ford 자동차(F) (40년간)"
   ]
  },
  {
   "cell_type": "code",
   "execution_count": null,
   "id": "fcc4488e-0d4a-4cbc-80de-7ed04ce15d7d",
   "metadata": {},
   "outputs": [],
   "source": [
    "# 여러종목 한번에 종가(Close) 데이터\n",
    "df = fdr.DataReader('AAPL, TSLA, AMZN', '2020') # 애플, 테슬라, 아마존 (2020년 ~ 현재)"
   ]
  },
  {
   "cell_type": "code",
   "execution_count": null,
   "id": "c7f5753b-c51f-471b-b7c6-44a826b72eba",
   "metadata": {},
   "outputs": [],
   "source": [
    "# 데이터 소스 지정하기\n",
    "df = fdr.DataReader('KRX:000150', '2020-01-01') # 두산(000150) (한국거래소)\n",
    "df = fdr.DataReader('NAVER:000150', '2020-01-01') # 두산(000150) (네이버 파이낸스)\n",
    "df = fdr.DataReader('YAHOO:000150.KS', '2020-01-01') # 두산(000150) (야후 파이낸스)"
   ]
  },
  {
   "cell_type": "code",
   "execution_count": null,
   "id": "ffc312a8-6b54-4cfb-80c2-ba517dca329a",
   "metadata": {},
   "outputs": [],
   "source": [
    "# TSE (도쿄증권거래소)\n",
    "df = fdr.DataReader('TSE:7203', '2020-01-01') # Toyota Motor Corp 토요타 자동차(7203)\n",
    "df = fdr.DataReader('TSE:9984', '2020-01-01') # SoftBank Group Corp 소프트뱅크그룹(9984)"
   ]
  },
  {
   "cell_type": "code",
   "execution_count": null,
   "id": "659b221c-0710-43f9-811d-f43d169b63d4",
   "metadata": {},
   "outputs": [],
   "source": [
    "# HOSE (호치민증권거래소)\n",
    "df = fdr.DataReader('HOSE:VCB', '2020-01-01') # 베트남 무역은행(VCB)\n",
    "df = fdr.DataReader('HOSE:VIC') # Vingroup (JSC)"
   ]
  },
  {
   "cell_type": "code",
   "execution_count": null,
   "id": "4efbdd00-3adb-4e7e-a541-6cc5ab8e5e85",
   "metadata": {},
   "outputs": [],
   "source": [
    "# 글로벌 동일한 종목코드 경우 거래소를 지정\n",
    "df = fdr.DataReader('000150', '2020-01-01') # 두산:KRX 종목 (기본:네이버 파이낸스)\n",
    "df = fdr.DataReader('KRX:000150', '2020-01-01') # 두산:KRX 종목 (한국거래소 데이터)\n",
    "df = fdr.DataReader('SSE:000150', '2020-01-01') # SSE 380 Dividend Index (상하이 거래소)"
   ]
  },
  {
   "cell_type": "code",
   "execution_count": null,
   "id": "34e832f5-5a01-465a-9618-d45b143cfcdb",
   "metadata": {},
   "outputs": [],
   "source": [
    "# 상품 선물 가격 데이터\n",
    "df = fdr.DataReader('CL=F') # WTI유 선물 Crude Oil (NYMEX)\n",
    "df = fdr.DataReader('BZ=F') # 브렌트유 선물 Brent Oil (NYMEX)\n",
    "df = fdr.DataReader('NG=F') # 천연가스 선물 (NYMEX)\n",
    "df = fdr.DataReader('GC=F') # 금 선물 (COMEX)\n",
    "df = fdr.DataReader('SI=F') # 은 선물 (COMEX)\n",
    "df = fdr.DataReader('HG=F') # 구리 선물 (COMEX)"
   ]
  },
  {
   "cell_type": "code",
   "execution_count": null,
   "id": "ae2f8b6e-63e6-4314-afa2-373dc06e0ce1",
   "metadata": {},
   "outputs": [],
   "source": [
    "# 상품 선물 가격 데이터\n",
    "df = fdr.DataReader('CL=F') # WTI유 선물 Crude Oil (NYMEX)\n",
    "df = fdr.DataReader('BZ=F') # 브렌트유 선물 Brent Oil (NYMEX)\n",
    "df = fdr.DataReader('NG=F') # 천연가스 선물 (NYMEX)\n",
    "df = fdr.DataReader('GC=F') # 금 선물 (COMEX)\n",
    "df = fdr.DataReader('SI=F') # 은 선물 (COMEX)\n",
    "df = fdr.DataReader('HG=F') # 구리 선물 (COMEX)"
   ]
  },
  {
   "cell_type": "code",
   "execution_count": null,
   "id": "4c3eaa44-4ac6-4c87-8fbc-cf115327d098",
   "metadata": {},
   "outputs": [],
   "source": [
    "# 암호화폐 가격 데이터 (원화, 달러)\n",
    "# (지원 심볼: ['BTC', 'ETH', 'USDT', 'BNB', 'USDC', 'XRP', 'BUSD', 'ADA', 'SOL', 'DOGE'])\n",
    "df = fdr.DataReader('BTC/KRW') # 비트코인/원화\n",
    "df = fdr.DataReader('ETH/KRW') # 이더리움/원화\n",
    "df = fdr.DataReader('BTC/USD') # 비트코인/달러\n",
    "df = fdr.DataReader('ETH/USD') # 이더리움/달러"
   ]
  },
  {
   "cell_type": "code",
   "execution_count": null,
   "id": "865f3d37-f1d4-41ea-a51a-7dd94d79f341",
   "metadata": {},
   "outputs": [],
   "source": [
    "# KRX delisting stock data 상장폐지 종목 전체 가격 데이터\n",
    "df = fdr.DataReader('KRX-DELISTING:036360') # 3SOFT(036360)"
   ]
  },
  {
   "cell_type": "code",
   "execution_count": null,
   "id": "54197408-3120-4fd0-b655-4f256a86c294",
   "metadata": {},
   "outputs": [],
   "source": [
    "# 미국 국채 채권 수익률\n",
    "df = fdr.DataReader('US5YT')   # 5년 만기 미국국채 수익률\n",
    "df = fdr.DataReader('US10YT') # 10년 만기 미국국채 수익률\n",
    "df = fdr.DataReader('US30YT') # 30년 만기 미국국채 수익률"
   ]
  },
  {
   "cell_type": "code",
   "execution_count": null,
   "id": "52c4acaa-4fae-49c1-bcd7-48e3edc6e324",
   "metadata": {},
   "outputs": [],
   "source": [
    "# 종목 리스팅 (종목수는 2022년 10월 25일 기준, 시장 규모 가늠 용도)\n",
    "# KRX 상장회사(발행회사)목록 (가격 중심, 주식 종목) - 시가총액순\n",
    "stocks = fdr.StockListing('KRX') # KRX: 2,663 종목(=코스피+코스닥+코넥스)\n",
    "stocks = fdr.StockListing('KOSPI') # KOSPI: 940 종목\n",
    "stocks = fdr.StockListing('KOSDAQ') # KOSDAQ: 1,597 종목\n",
    "stocks = fdr.StockListing('KONEX') # KONEX: 126 종목"
   ]
  },
  {
   "cell_type": "code",
   "execution_count": null,
   "id": "871d2cbd-1ec9-4fbb-ada4-0ea4d0af1856",
   "metadata": {},
   "outputs": [],
   "source": [
    "# KRX 전종목 목록 (설명 중심, 주식+펀드등 전종목)\n",
    "stocks = fdr.StockListing('KRX-DESC') # 한국거래소: 7,632 종목\n",
    "stocks = fdr.StockListing('KOSPI-DESC') # KOSPI: 5,897 종목\n",
    "stocks = fdr.StockListing('KOSDAQ-DESC') # KOSDAQ: 1,609 종목\n",
    "stocks = fdr.StockListing('KONEX-DESC') # KONEX: 126 종목"
   ]
  },
  {
   "cell_type": "code",
   "execution_count": null,
   "id": "59547d5d-1471-4057-ae9a-a07c275b1196",
   "metadata": {},
   "outputs": [],
   "source": [
    "# KRX 특수 종목 리스팅 (상장폐지 종목, 관리종목)\n",
    "stocks = fdr.StockListing('KRX-DELISTING') # 3천+ 종목 - 상장폐지 종목 전체\n",
    "stocks = fdr.StockListing('KRX-ADMIN') # 50+ 종목 - KRX 관리종목"
   ]
  },
  {
   "cell_type": "code",
   "execution_count": null,
   "id": "c2ebb530-9594-40e7-a3d7-dae3c46b44ed",
   "metadata": {},
   "outputs": [],
   "source": [
    "# US Market listings 미국 시장 거래소별 전종목 리스팅\n",
    "stocks = fdr.StockListing('S&P500') # S&P500: 503 종목  \n",
    "stocks = fdr.StockListing('NASDAQ') # 나스닥 (NASDAQ): 4천+ 종목\n",
    "stocks = fdr.StockListing('NYSE') # 뉴욕증권거래소 (NYSE): 3천+ 종목"
   ]
  },
  {
   "cell_type": "code",
   "execution_count": null,
   "id": "7a743191-4bff-4074-95ec-73db8a330265",
   "metadata": {},
   "outputs": [],
   "source": [
    "# Global Market listings 글로벌 시장 거래소별 전종목 리스팅\n",
    "stocks = fdr.StockListing('SSE') # 상하이 증권거래소 (Shanghai Stock Exchange: SSE): 1천+ 종목\n",
    "stocks = fdr.StockListing('SZSE') # 선전 증권거래소(Shenzhen Stock Exchange: SZSE): 1천+ 종목\n",
    "stocks = fdr.StockListing('HKEX') # 홍콩 증권거래소(Hong Kong Exchange: HKEX): 2천5백+ 종목\n",
    "stocks = fdr.StockListing('TSE') # 도쿄 증권거래소(Tokyo Stock Exchange: TSE): 3천9백+ 종목\n",
    "stocks = fdr.StockListing('HOSE') # 호찌민 증권거래소(Ho Chi Minh City Stock Exchange: HOSE): 4백+ 종목"
   ]
  },
  {
   "cell_type": "code",
   "execution_count": null,
   "id": "9a0adda1-0f48-4d16-8871-c98c26756c2c",
   "metadata": {},
   "outputs": [],
   "source": [
    "# KRX ETFs\n",
    "etfs = fdr.StockListing('ETF/KR') # 한국 ETF 전종목"
   ]
  },
  {
   "cell_type": "code",
   "execution_count": null,
   "id": "000b3a7b-6b7e-4ecc-ba73-f574b1dd439d",
   "metadata": {},
   "outputs": [],
   "source": [
    "# FRED 데이터\n",
    "df = fdr.DataReader('FRED:M2') #  M2 통화량\n",
    "df = fdr.DataReader('FRED:NASDAQCOM') # NASDAQCOM 나스닥종합지수\n",
    "df = fdr.DataReader('FRED:T10Y2Y') # 미국 장단기금리차 (1980년 ~)"
   ]
  },
  {
   "cell_type": "code",
   "execution_count": null,
   "id": "da33c349-5649-4bb8-bc8e-d77fff24f1ca",
   "metadata": {},
   "outputs": [],
   "source": [
    "# 달러 인덱스\n",
    "df = fdr.DataReader('^NYICDX') # ICE U.S. Dollar Index (^NYICDX) 달러인덱스 (1980~현재)"
   ]
  },
  {
   "cell_type": "code",
   "execution_count": null,
   "id": "d40071c3-9054-4145-b5f1-1dff25ac3343",
   "metadata": {},
   "outputs": [],
   "source": [
    "# FRED 데이터 여러 항목 한번에 \n",
    "df = fdr.DataReader('FRED:M2,HSN1F,NASDAQCOM')  # M2 통화량, HSN1F 주택판매지수, NASDAQCOM 나스닥종합지수"
   ]
  },
  {
   "cell_type": "code",
   "execution_count": null,
   "id": "72192ab0-af35-4251-acae-c68283dc8d4f",
   "metadata": {},
   "outputs": [],
   "source": [
    "#  KRX지수및 지수 구 성종목\n",
    "df = fdr.SnapDataReader('KRX/INDEX/LIST') # KRX 전체 지수목록\n",
    "\n",
    "df = fdr.SnapDataReader('KRX/INDEX/STOCK/1001') # KOSPI 지수구성종목\n",
    "df = fdr.SnapDataReader('KRX/INDEX/STOCK/1028') # 코스피 200\n",
    "df = fdr.SnapDataReader('KRX/INDEX/STOCK/5106') # KRX ESG Leaders 150 테마 지수 구성종목"
   ]
  }
 ],
 "metadata": {
  "kernelspec": {
   "display_name": "Python 3 (ipykernel)",
   "language": "python",
   "name": "python3"
  },
  "language_info": {
   "codemirror_mode": {
    "name": "ipython",
    "version": 3
   },
   "file_extension": ".py",
   "mimetype": "text/x-python",
   "name": "python",
   "nbconvert_exporter": "python",
   "pygments_lexer": "ipython3",
   "version": "3.11.2"
  }
 },
 "nbformat": 4,
 "nbformat_minor": 5
}
