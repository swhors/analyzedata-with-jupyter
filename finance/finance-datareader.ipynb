{
 "cells": [
  {
   "cell_type": "code",
   "execution_count": null,
   "id": "2fca09a9-e21c-43f8-8960-9aedcae6f043",
   "metadata": {},
   "outputs": [
    {
     "name": "stdout",
     "output_type": "stream",
     "text": [
      "Defaulting to user installation because normal site-packages is not writeable\n",
      "Collecting finance-datareader\n",
      "  Downloading finance_datareader-0.9.93-py3-none-any.whl (88 kB)\n",
      "\u001b[2K     \u001b[90m━━━━━━━━━━━━━━━━━━━━━━━━━━━━━━━━━━━━━━━━\u001b[0m \u001b[32m89.0/89.0 KB\u001b[0m \u001b[31m2.0 MB/s\u001b[0m eta \u001b[36m0:00:00\u001b[0ma \u001b[36m0:00:01\u001b[0m\n",
      "\u001b[?25hCollecting pandas>=0.19.2\n",
      "  Downloading pandas-2.2.2-cp310-cp310-manylinux_2_17_x86_64.manylinux2014_x86_64.whl (13.0 MB)\n",
      "\u001b[2K     \u001b[90m━━━━━━━━━━━━━━━━━━━━━━━━━━━━━━━━━━━━━━━━\u001b[0m \u001b[32m13.0/13.0 MB\u001b[0m \u001b[31m84.7 MB/s\u001b[0m eta \u001b[36m0:00:00\u001b[0m00:01\u001b[0m0:01\u001b[0m\n",
      "\u001b[?25hRequirement already satisfied: lxml in /usr/lib/python3/dist-packages (from finance-datareader) (4.8.0)\n",
      "Collecting tqdm\n",
      "  Downloading tqdm-4.66.5-py3-none-any.whl (78 kB)\n",
      "\u001b[2K     \u001b[90m━━━━━━━━━━━━━━━━━━━━━━━━━━━━━━━━━━━━━━━━\u001b[0m \u001b[32m78.4/78.4 KB\u001b[0m \u001b[31m10.4 MB/s\u001b[0m eta \u001b[36m0:00:00\u001b[0m\n",
      "\u001b[?25hRequirement already satisfied: requests>=2.3.0 in ./venv/lib/python3.10/site-packages (from finance-datareader) (2.32.3)\n",
      "Collecting requests-file\n",
      "  Downloading requests_file-2.1.0-py2.py3-none-any.whl (4.2 kB)\n",
      "Requirement already satisfied: pytz>=2020.1 in ./venv/lib/python3.10/site-packages (from pandas>=0.19.2->finance-datareader) (2023.3)\n",
      "Requirement already satisfied: python-dateutil>=2.8.2 in ./venv/lib/python3.10/site-packages (from pandas>=0.19.2->finance-datareader) (2.9.0.post0)\n",
      "Collecting numpy>=1.22.4\n",
      "  Downloading numpy-2.1.1-cp310-cp310-manylinux_2_17_x86_64.manylinux2014_x86_64.whl (16.3 MB)\n",
      "\u001b[2K     \u001b[90m━━━━━━━━━━━━━━━━━━━━━━━━━━━━━━━━━━━━━━━━\u001b[0m \u001b[32m16.3/16.3 MB\u001b[0m \u001b[31m34.3 MB/s\u001b[0m eta \u001b[36m0:00:00\u001b[0m00:01\u001b[0m00:01\u001b[0m\n",
      "\u001b[?25hCollecting tzdata>=2022.7\n",
      "  Downloading tzdata-2024.1-py2.py3-none-any.whl (345 kB)\n",
      "\u001b[2K     \u001b[90m━━━━━━━━━━━━━━━━━━━━━━━━━━━━━━━━━━━━━━\u001b[0m \u001b[32m345.4/345.4 KB\u001b[0m \u001b[31m35.9 MB/s\u001b[0m eta \u001b[36m0:00:00\u001b[0m\n",
      "\u001b[?25hRequirement already satisfied: urllib3<3,>=1.21.1 in ./venv/lib/python3.10/site-packages (from requests>=2.3.0->finance-datareader) (2.2.2)\n",
      "Requirement already satisfied: charset-normalizer<4,>=2 in ./venv/lib/python3.10/site-packages (from requests>=2.3.0->finance-datareader) (3.3.2)\n",
      "Requirement already satisfied: idna<4,>=2.5 in ./venv/lib/python3.10/site-packages (from requests>=2.3.0->finance-datareader) (3.8)\n",
      "Requirement already satisfied: certifi>=2017.4.17 in ./venv/lib/python3.10/site-packages (from requests>=2.3.0->finance-datareader) (2024.8.30)\n",
      "Requirement already satisfied: six>=1.5 in ./venv/lib/python3.10/site-packages (from python-dateutil>=2.8.2->pandas>=0.19.2->finance-datareader) (1.16.0)\n",
      "Installing collected packages: tzdata, tqdm, numpy, requests-file, pandas, finance-datareader\n",
      "\u001b[33m  WARNING: The script tqdm is installed in '/home/aimmodev/.local/bin' which is not on PATH.\n",
      "  Consider adding this directory to PATH or, if you prefer to suppress this warning, use --no-warn-script-location.\u001b[0m\u001b[33m\n",
      "\u001b[0m\u001b[33m  WARNING: The scripts f2py and numpy-config are installed in '/home/aimmodev/.local/bin' which is not on PATH.\n",
      "  Consider adding this directory to PATH or, if you prefer to suppress this warning, use --no-warn-script-location.\u001b[0m\u001b[33m\n",
      "\u001b[0mSuccessfully installed finance-datareader-0.9.93 numpy-2.1.1 pandas-2.2.2 requests-file-2.1.0 tqdm-4.66.5 tzdata-2024.1\n"
     ]
    }
   ],
   "source": [
    "!pip install finance-datareader plotly numpy mathplot matplotlib"
   ]
  },
  {
   "cell_type": "code",
   "execution_count": 10,
   "id": "8e964c80-e398-46e4-badf-b7c53fbd3696",
   "metadata": {},
   "outputs": [
    {
     "name": "stdout",
     "output_type": "stream",
     "text": [
      "posix\n"
     ]
    }
   ],
   "source": [
    "import os\n",
    "import FinanceDataReader as fdr\n",
    "\n",
    "print(os.name)"
   ]
  },
  {
   "cell_type": "code",
   "execution_count": 11,
   "id": "44834830-d076-450a-b6ae-d357a3028934",
   "metadata": {},
   "outputs": [
    {
     "name": "stdout",
     "output_type": "stream",
     "text": [
      "1 001 2020-01-01 00:00:00 2021-12-31 00:00:00\n",
      "1 001 2022-01-01 00:00:00 2023-12-31 00:00:00\n",
      "1 001 2024-01-01 00:00:00 2025-12-31 00:00:00\n",
      "1 001 2022-01-01 00:00:00 2023-12-31 00:00:00\n"
     ]
    }
   ],
   "source": [
    "# KOSPI Index 코스피 지수 데이터 \n",
    "df = fdr.DataReader('KS11', '2020') # 2020-01-01 ~ 현재\n",
    "df = fdr.DataReader('KS11', '2022-01-01', '2022-12-31') # 2022-01-01 ~ 2022-12-31"
   ]
  },
  {
   "cell_type": "code",
   "execution_count": 12,
   "id": "99c85d9a-1f72-4f23-89c4-25e8a95f70f8",
   "metadata": {},
   "outputs": [
    {
     "name": "stdout",
     "output_type": "stream",
     "text": [
      "1 001 2001-06-11 00:00:00 2003-06-10 00:00:00\n",
      "1 001 2003-06-11 00:00:00 2005-06-10 00:00:00\n",
      "1 001 2005-06-11 00:00:00 2007-06-10 00:00:00\n",
      "1 001 2007-06-11 00:00:00 2009-06-10 00:00:00\n",
      "1 001 2009-06-11 00:00:00 2011-06-10 00:00:00\n",
      "1 001 2011-06-11 00:00:00 2013-06-10 00:00:00\n",
      "1 001 2013-06-11 00:00:00 2015-06-10 00:00:00\n",
      "1 001 2015-06-11 00:00:00 2017-06-10 00:00:00\n",
      "1 001 2017-06-11 00:00:00 2019-06-10 00:00:00\n",
      "1 001 2019-06-11 00:00:00 2021-06-10 00:00:00\n",
      "1 001 2021-06-11 00:00:00 2023-06-10 00:00:00\n",
      "1 001 2023-06-11 00:00:00 2025-06-10 00:00:00\n",
      "2 001 2001-06-11 00:00:00 2003-06-10 00:00:00\n",
      "2 001 2003-06-11 00:00:00 2005-06-10 00:00:00\n",
      "2 001 2005-06-11 00:00:00 2007-06-10 00:00:00\n",
      "2 001 2007-06-11 00:00:00 2009-06-10 00:00:00\n",
      "2 001 2009-06-11 00:00:00 2011-06-10 00:00:00\n",
      "2 001 2011-06-11 00:00:00 2013-06-10 00:00:00\n",
      "2 001 2013-06-11 00:00:00 2015-06-10 00:00:00\n",
      "2 001 2015-06-11 00:00:00 2017-06-10 00:00:00\n",
      "2 001 2017-06-11 00:00:00 2019-06-10 00:00:00\n",
      "2 001 2019-06-11 00:00:00 2021-06-10 00:00:00\n",
      "2 001 2021-06-11 00:00:00 2023-06-10 00:00:00\n",
      "2 001 2023-06-11 00:00:00 2025-06-10 00:00:00\n",
      "1 028 2001-06-11 00:00:00 2003-06-10 00:00:00\n",
      "1 028 2003-06-11 00:00:00 2005-06-10 00:00:00\n",
      "1 028 2005-06-11 00:00:00 2007-06-10 00:00:00\n",
      "1 028 2007-06-11 00:00:00 2009-06-10 00:00:00\n",
      "1 028 2009-06-11 00:00:00 2011-06-10 00:00:00\n",
      "1 028 2011-06-11 00:00:00 2013-06-10 00:00:00\n",
      "1 028 2013-06-11 00:00:00 2015-06-10 00:00:00\n",
      "1 028 2015-06-11 00:00:00 2017-06-10 00:00:00\n",
      "1 028 2017-06-11 00:00:00 2019-06-10 00:00:00\n",
      "1 028 2019-06-11 00:00:00 2021-06-10 00:00:00\n",
      "1 028 2021-06-11 00:00:00 2023-06-10 00:00:00\n",
      "1 028 2023-06-11 00:00:00 2025-06-10 00:00:00\n"
     ]
    }
   ],
   "source": [
    "# KRX Indices 국내 지수 데이터\n",
    "df = fdr.DataReader('KS11') # KOSPI 지수 (KRX)\n",
    "df = fdr.DataReader('KQ11') # KOSDAQ 지수 (KRX)\n",
    "df = fdr.DataReader('KS200') # KOSPI 200 (KRX)"
   ]
  },
  {
   "cell_type": "code",
   "execution_count": 16,
   "id": "69d78485-f697-48eb-a183-d38c42b9acf2",
   "metadata": {},
   "outputs": [],
   "source": [
    "# US market Indices 미국 시장 지수 데이터\n",
    "df = fdr.DataReader('DJI') # 다우존스 지수 (DJI - Dow Jones Industrial Average)\n",
    "df = fdr.DataReader('IXIC') # 나스닥 종합지수 (IXIC - NASDAQ Composite)\n",
    "df = fdr.DataReader('S&P500') # S&P500 지수 (NYSE)\n",
    "df = fdr.DataReader('RUT') # 러셀2000 지수 (RUT - US Small Cap 2000)\n",
    "df = fdr.DataReader('VIX') # VIX지수 (VIX - CBOE Volatility Index)"
   ]
  },
  {
   "cell_type": "code",
   "execution_count": null,
   "id": "3e247870-5b29-41e9-8aee-8b0dce77bcfa",
   "metadata": {},
   "outputs": [],
   "source": [
    "# Global Indices 글로벌 지수 데이터\n",
    "df = fdr.DataReader('SSEC') # 상해 종합지수 Shanghai (SSEC -Shanghai Composite)\n",
    "df = fdr.DataReader('HSI') # 항셍지수 (HSI - Hang Seng)\n",
    "df = fdr.DataReader('N225') # 일본 닛케이지수 (N225 - Nikkei 225)\n",
    "df = fdr.DataReader('FTSE') # 영국 FTSE100 (FTSE 100 - Financial Times Stock Exchange)\n",
    "df = fdr.DataReader('FCHI') # 프랑스 FCHI 지수 (CAC 40 - CAC quarante)\n",
    "df = fdr.DataReader('GDAXI') # 독일 닥스지수  (DAX30 - germany-30)"
   ]
  },
  {
   "cell_type": "code",
   "execution_count": null,
   "id": "a8b3b3f1-1718-459f-961c-958941ec8ac3",
   "metadata": {},
   "outputs": [],
   "source": [
    "# KRX stock price 국내 시장 개별종목\n",
    "df = fdr.DataReader('005930') # 삼성전자 전체 (1999년 ~ 현재)\n",
    "df = fdr.DataReader('000660') # SK하이닉스 전체 (1999년 ~ 현재)\n",
    "df = fdr.DataReader('068270') # 셀트리온 전체 (2004년 상장 ~ 현재)"
   ]
  },
  {
   "cell_type": "code",
   "execution_count": null,
   "id": "f67db47d-04ac-4902-8d50-2a9719a46230",
   "metadata": {},
   "outputs": [],
   "source": [
    "# 여러 종목 종가(Close) 한번에\n",
    "# 삼성전자(005930), SK하이닉스(000660), 기아(000270), 카카오(035720), KB금융(105560)\n",
    "df = fdr.DataReader('005930,000660,000270,035720,105560', '2020') # 2020년 ~ 현재"
   ]
  },
  {
   "cell_type": "code",
   "execution_count": null,
   "id": "89bd61e9-38be-44b5-81c6-17a80e2372c8",
   "metadata": {},
   "outputs": [],
   "source": [
    "# US stock price 미국 시장 개별종목\n",
    "df = fdr.DataReader('AAPL', '2017') # Apple(AAPL), 2017-01-01 ~ 현재\n",
    "df = fdr.DataReader('AMZN', '2017', '2019-12-31') # AMAZON(AMZN), 2017~2019 (3년)\n",
    "df = fdr.DataReader('F', '1980-01-01', '2023-10-01') # Ford 자동차(F) (40년간)"
   ]
  },
  {
   "cell_type": "code",
   "execution_count": null,
   "id": "8d764f0f-7e86-4c94-bfe6-78a07dbf2b06",
   "metadata": {},
   "outputs": [],
   "source": [
    "# 여러종목 한번에 종가(Close) 데이터\n",
    "df = fdr.DataReader('AAPL, TSLA, AMZN', '2020') # 애플, 테슬라, 아마존 (2020년 ~ 현재)"
   ]
  },
  {
   "cell_type": "code",
   "execution_count": null,
   "id": "e1718fca-5170-462b-b40a-ee75e2fd6d83",
   "metadata": {},
   "outputs": [],
   "source": [
    "# 데이터 소스 지정하기\n",
    "df = fdr.DataReader('KRX:000150', '2020-01-01') # 두산(000150) (한국거래소)\n",
    "df = fdr.DataReader('NAVER:000150', '2020-01-01') # 두산(000150) (네이버 파이낸스)\n",
    "df = fdr.DataReader('YAHOO:000150.KS', '2020-01-01') # 두산(000150) (야후 파이낸스)"
   ]
  },
  {
   "cell_type": "code",
   "execution_count": null,
   "id": "d402daf3-90bf-4733-bc46-4c157b403bb9",
   "metadata": {},
   "outputs": [],
   "source": [
    "# TSE (도쿄증권거래소)\n",
    "df = fdr.DataReader('TSE:7203', '2020-01-01') # Toyota Motor Corp 토요타 자동차(7203)\n",
    "df = fdr.DataReader('TSE:9984', '2020-01-01') # SoftBank Group Corp 소프트뱅크그룹(9984)"
   ]
  },
  {
   "cell_type": "code",
   "execution_count": null,
   "id": "1b177f22-0eb9-4750-8c99-5e11434316e0",
   "metadata": {},
   "outputs": [],
   "source": [
    "# HOSE (호치민증권거래소)\n",
    "df = fdr.DataReader('HOSE:VCB', '2020-01-01') # 베트남 무역은행(VCB)\n",
    "df = fdr.DataReader('HOSE:VIC') # Vingroup (JSC)"
   ]
  },
  {
   "cell_type": "code",
   "execution_count": null,
   "id": "d4c682a6-8320-4162-9456-93384d65c89c",
   "metadata": {},
   "outputs": [],
   "source": [
    "# 글로벌 동일한 종목코드 경우 거래소를 지정\n",
    "df = fdr.DataReader('000150', '2020-01-01') # 두산:KRX 종목 (기본:네이버 파이낸스)\n",
    "df = fdr.DataReader('KRX:000150', '2020-01-01') # 두산:KRX 종목 (한국거래소 데이터)\n",
    "df = fdr.DataReader('SSE:000150', '2020-01-01') # SSE 380 Dividend Index (상하이 거래소)"
   ]
  },
  {
   "cell_type": "code",
   "execution_count": null,
   "id": "91885e47-480f-44c5-989a-3185865e1bce",
   "metadata": {},
   "outputs": [],
   "source": [
    "# 상품 선물 가격 데이터\n",
    "df = fdr.DataReader('CL=F') # WTI유 선물 Crude Oil (NYMEX)\n",
    "df = fdr.DataReader('BZ=F') # 브렌트유 선물 Brent Oil (NYMEX)\n",
    "df = fdr.DataReader('NG=F') # 천연가스 선물 (NYMEX)\n",
    "df = fdr.DataReader('GC=F') # 금 선물 (COMEX)\n",
    "df = fdr.DataReader('SI=F') # 은 선물 (COMEX)\n",
    "df = fdr.DataReader('HG=F') # 구리 선물 (COMEX)"
   ]
  },
  {
   "cell_type": "code",
   "execution_count": null,
   "id": "5ca72390-2042-4070-83bd-69b22ae7aed5",
   "metadata": {},
   "outputs": [],
   "source": [
    "# 환율: 여러 조합 가능(지원 심볼: ['KRW', 'EUR', 'CNY', 'JPY', 'CHF'])\n",
    "df = fdr.DataReader('USD/KRW') # 달러 원화\n",
    "df = fdr.DataReader('USD/EUR') # 달러 유로화\n",
    "df = fdr.DataReader('USD/CNY') # 달러 위엔화\n",
    "df = fdr.DataReader('CNY/KRW') # 위엔화 원화\n",
    "df = fdr.DataReader('EUR/CNY') # 유로화 위엔화"
   ]
  },
  {
   "cell_type": "code",
   "execution_count": null,
   "id": "37604bb0-d8e5-438e-bf10-2f0ed30a5a4e",
   "metadata": {},
   "outputs": [],
   "source": [
    "# 암호화폐 가격 데이터 (원화, 달러)\n",
    "# (지원 심볼: ['BTC', 'ETH', 'USDT', 'BNB', 'USDC', 'XRP', 'BUSD', 'ADA', 'SOL', 'DOGE'])\n",
    "df = fdr.DataReader('BTC/KRW') # 비트코인/원화\n",
    "df = fdr.DataReader('ETH/KRW') # 이더리움/원화\n",
    "df = fdr.DataReader('BTC/USD') # 비트코인/달러\n",
    "df = fdr.DataReader('ETH/USD') # 이더리움/달러"
   ]
  },
  {
   "cell_type": "code",
   "execution_count": null,
   "id": "3d54d550-12b5-4fcd-924a-fe43b01531c8",
   "metadata": {},
   "outputs": [],
   "source": [
    "# KRX delisting stock data 상장폐지 종목 전체 가격 데이터\n",
    "df = fdr.DataReader('KRX-DELISTING:036360') # 3SOFT(036360)"
   ]
  },
  {
   "cell_type": "code",
   "execution_count": null,
   "id": "720a3244-5e1b-418f-841a-1f59627f4080",
   "metadata": {},
   "outputs": [],
   "source": [
    "# 미국 국채 채권 수익률\n",
    "df = fdr.DataReader('US5YT')   # 5년 만기 미국국채 수익률\n",
    "df = fdr.DataReader('US10YT') # 10년 만기 미국국채 수익률\n",
    "df = fdr.DataReader('US30YT') # 30년 만기 미국국채 수익률"
   ]
  },
  {
   "cell_type": "code",
   "execution_count": null,
   "id": "a4f90a45-90c6-4833-bddf-00042045e9fc",
   "metadata": {},
   "outputs": [],
   "source": [
    "# 종목 리스팅 (종목수는 2022년 10월 25일 기준, 시장 규모 가늠 용도)\n",
    "# KRX 상장회사(발행회사)목록 (가격 중심, 주식 종목) - 시가총액순\n",
    "stocks = fdr.StockListing('KRX') # KRX: 2,663 종목(=코스피+코스닥+코넥스)\n",
    "stocks = fdr.StockListing('KOSPI') # KOSPI: 940 종목\n",
    "stocks = fdr.StockListing('KOSDAQ') # KOSDAQ: 1,597 종목\n",
    "stocks = fdr.StockListing('KONEX') # KONEX: 126 종목"
   ]
  },
  {
   "cell_type": "code",
   "execution_count": null,
   "id": "c154fcfb-e963-45e1-bbad-f4d25bfe26a0",
   "metadata": {},
   "outputs": [],
   "source": [
    "# KRX 전종목 목록 (설명 중심, 주식+펀드등 전종목)\n",
    "stocks = fdr.StockListing('KRX-DESC') # 한국거래소: 7,632 종목\n",
    "stocks = fdr.StockListing('KOSPI-DESC') # KOSPI: 5,897 종목\n",
    "stocks = fdr.StockListing('KOSDAQ-DESC') # KOSDAQ: 1,609 종목\n",
    "stocks = fdr.StockListing('KONEX-DESC') # KONEX: 126 종목"
   ]
  },
  {
   "cell_type": "code",
   "execution_count": null,
   "id": "faf5fcef-9827-4269-934d-703b0def00ca",
   "metadata": {},
   "outputs": [],
   "source": [
    "# KRX 특수 종목 리스팅 (상장폐지 종목, 관리종목)\n",
    "stocks = fdr.StockListing('KRX-DELISTING') # 3천+ 종목 - 상장폐지 종목 전체\n",
    "stocks = fdr.StockListing('KRX-ADMIN') # 50+ 종목 - KRX 관리종목"
   ]
  },
  {
   "cell_type": "code",
   "execution_count": null,
   "id": "71e5a970-7647-4784-bd17-0aaa346a87c9",
   "metadata": {},
   "outputs": [],
   "source": [
    "# US Market listings 미국 시장 거래소별 전종목 리스팅\n",
    "stocks = fdr.StockListing('S&P500') # S&P500: 503 종목  \n",
    "stocks = fdr.StockListing('NASDAQ') # 나스닥 (NASDAQ): 4천+ 종목\n",
    "stocks = fdr.StockListing('NYSE') # 뉴욕증권거래소 (NYSE): 3천+ 종목"
   ]
  },
  {
   "cell_type": "code",
   "execution_count": null,
   "id": "e40d1380-f634-4a57-9c77-78134a48bd62",
   "metadata": {},
   "outputs": [],
   "source": [
    "# Global Market listings 글로벌 시장 거래소별 전종목 리스팅\n",
    "stocks = fdr.StockListing('SSE') # 상하이 증권거래소 (Shanghai Stock Exchange: SSE): 1천+ 종목\n",
    "stocks = fdr.StockListing('SZSE') # 선전 증권거래소(Shenzhen Stock Exchange: SZSE): 1천+ 종목\n",
    "stocks = fdr.StockListing('HKEX') # 홍콩 증권거래소(Hong Kong Exchange: HKEX): 2천5백+ 종목\n",
    "stocks = fdr.StockListing('TSE') # 도쿄 증권거래소(Tokyo Stock Exchange: TSE): 3천9백+ 종목\n",
    "stocks = fdr.StockListing('HOSE') # 호찌민 증권거래소(Ho Chi Minh City Stock Exchange: HOSE): 4백+ 종목"
   ]
  },
  {
   "cell_type": "code",
   "execution_count": null,
   "id": "3cf14d4d-17ea-4b33-b52d-7693f86ed1df",
   "metadata": {},
   "outputs": [],
   "source": [
    "# KRX ETFs\n",
    "etfs = fdr.StockListing('ETF/KR') # 한국 ETF 전종목"
   ]
  },
  {
   "cell_type": "code",
   "execution_count": null,
   "id": "c3c734fd-b42e-4cab-bfac-dddc289a00a8",
   "metadata": {},
   "outputs": [],
   "source": [
    "# FRED 데이터\n",
    "df = fdr.DataReader('FRED:M2') #  M2 통화량\n",
    "df = fdr.DataReader('FRED:NASDAQCOM') # NASDAQCOM 나스닥종합지수\n",
    "df = fdr.DataReader('FRED:T10Y2Y') # 미국 장단기금리차 (1980년 ~)"
   ]
  },
  {
   "cell_type": "code",
   "execution_count": null,
   "id": "3b615c57-2afb-4c54-bc5c-713234c2c9ed",
   "metadata": {},
   "outputs": [],
   "source": [
    "# 달러 인덱스\n",
    "df = fdr.DataReader('^NYICDX') # ICE U.S. Dollar Index (^NYICDX) 달러인덱스 (1980~현재)"
   ]
  },
  {
   "cell_type": "code",
   "execution_count": null,
   "id": "70dc3133-7df3-467c-8401-c840a36276d7",
   "metadata": {},
   "outputs": [],
   "source": [
    "# FRED 데이터 여러 항목 한번에 \n",
    "df = fdr.DataReader('FRED:M2,HSN1F,NASDAQCOM')  # M2 통화량, HSN1F 주택판매지수, NASDAQCOM 나스닥종합지수"
   ]
  },
  {
   "cell_type": "code",
   "execution_count": 9,
   "id": "a5096aab-6675-4687-9ef9-7aba8fd11e0f",
   "metadata": {},
   "outputs": [],
   "source": [
    "#  KRX지수및 지수 구 성종목\n",
    "df = fdr.SnapDataReader('KRX/INDEX/LIST') # KRX 전체 지수목록\n",
    "\n",
    "df = fdr.SnapDataReader('KRX/INDEX/STOCK/1001') # KOSPI 지수구성종목\n",
    "df = fdr.SnapDataReader('KRX/INDEX/STOCK/1028') # 코스피 200\n",
    "df = fdr.SnapDataReader('KRX/INDEX/STOCK/5106') # KRX ESG Leaders 150 테마 지수 구성종목"
   ]
  },
  {
   "cell_type": "code",
   "execution_count": null,
   "id": "9703f914-d8e5-4281-b738-03d8e1d7fe35",
   "metadata": {},
   "outputs": [],
   "source": []
  }
 ],
 "metadata": {
  "kernelspec": {
   "display_name": "Python 3 (ipykernel)",
   "language": "python",
   "name": "python3"
  },
  "language_info": {
   "codemirror_mode": {
    "name": "ipython",
    "version": 3
   },
   "file_extension": ".py",
   "mimetype": "text/x-python",
   "name": "python",
   "nbconvert_exporter": "python",
   "pygments_lexer": "ipython3",
   "version": "3.10.12"
  }
 },
 "nbformat": 4,
 "nbformat_minor": 5
}
