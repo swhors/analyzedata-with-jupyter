{
 "cells": [
  {
   "cell_type": "code",
   "execution_count": null,
   "id": "951d94c5-fe34-421b-9dab-d5dd11b62e86",
   "metadata": {},
   "outputs": [],
   "source": [
    "import os\n",
    "import FinanceDataReader as fdr\n",
    "import numpy as np\n",
    "import mathplot as mp"
   ]
  },
  {
   "cell_type": "code",
   "execution_count": null,
   "id": "16e2ee7c-c39c-4f51-877c-60e89e9072a1",
   "metadata": {},
   "outputs": [],
   "source": [
    "stocks = fdr.StockListing('KOSPI-DESC') # KOSPI: 5,897 종목"
   ]
  },
  {
   "cell_type": "code",
   "execution_count": null,
   "id": "616b47cd-7720-4202-bffb-1b48b3ad483a",
   "metadata": {},
   "outputs": [],
   "source": [
    "print(stocks)"
   ]
  },
  {
   "cell_type": "code",
   "execution_count": null,
   "id": "062b9a05-178b-4a70-90ba-9d688551ca02",
   "metadata": {},
   "outputs": [],
   "source": []
  }
 ],
 "metadata": {
  "kernelspec": {
   "display_name": "Python 3 (ipykernel)",
   "language": "python",
   "name": "python3"
  },
  "language_info": {
   "codemirror_mode": {
    "name": "ipython",
    "version": 3
   },
   "file_extension": ".py",
   "mimetype": "text/x-python",
   "name": "python",
   "nbconvert_exporter": "python",
   "pygments_lexer": "ipython3",
   "version": "3.11.2"
  }
 },
 "nbformat": 4,
 "nbformat_minor": 5
}
