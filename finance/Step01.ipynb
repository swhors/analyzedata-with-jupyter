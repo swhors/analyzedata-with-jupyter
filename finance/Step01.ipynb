{
 "cells": [
  {
   "cell_type": "code",
   "execution_count": 2,
   "id": "70cec52e-71db-40cd-a043-05ca8d03c638",
   "metadata": {},
   "outputs": [],
   "source": [
    "import os\n",
    "import FinanceDataReader as fdr\n",
    "import numpy as np\n",
    "import mathplot as mp"
   ]
  },
  {
   "cell_type": "code",
   "execution_count": 3,
   "id": "c3e7be1b-df86-4970-a2da-6e74b19f32ab",
   "metadata": {},
   "outputs": [],
   "source": [
    "stocks = fdr.StockListing('KOSPI-DESC') # KOSPI: 5,897 종목"
   ]
  },
  {
   "cell_type": "code",
   "execution_count": 4,
   "id": "2239c6d1-c48d-40fc-bbb7-f71d1ba21fee",
   "metadata": {},
   "outputs": [
    {
     "name": "stdout",
     "output_type": "stream",
     "text": [
      "       Code     Name Market           Sector  \\\n",
      "0    095570   AJ네트웍스  KOSPI  산업용 기계 및 장비 임대업   \n",
      "1    006840    AK홀딩스  KOSPI           기타 금융업   \n",
      "2    027410      BGF  KOSPI           기타 금융업   \n",
      "3    282330   BGF리테일  KOSPI           종합 소매업   \n",
      "4    138930  BNK금융지주  KOSPI           기타 금융업   \n",
      "..      ...      ...    ...              ...   \n",
      "953  079980      휴비스  KOSPI         화학섬유 제조업   \n",
      "954  005010      휴스틸  KOSPI        1차 철강 제조업   \n",
      "955  000540     흥국화재  KOSPI              보험업   \n",
      "956  000545    흥국화재우  KOSPI              NaN   \n",
      "957  003280     흥아해운  KOSPI           해상 운송업   \n",
      "\n",
      "                                          Industry ListingDate SettleMonth  \\\n",
      "0                              렌탈(파렛트, OA장비, 건설장비)  2015-08-21         12월   \n",
      "1                                             지주사업  1999-08-11         12월   \n",
      "2                                             지주회사  2014-05-19         12월   \n",
      "3                                          체인화 편의점  2017-12-08         12월   \n",
      "4                                           금융지주회사  2011-03-30         12월   \n",
      "..                                             ...         ...         ...   \n",
      "953  합성섬유(폴리에스테르원사,원면),재생섬유,폴리에스텔 원사,원면,고상칩 제조,도소매  2012-02-23         12월   \n",
      "954                          강관(배관용,구조용,유정용) 제조,도매  1973-06-29         12월   \n",
      "955                                           손해보험  1974-12-05         12월   \n",
      "956                                            NaN         NaT         NaN   \n",
      "957                                 외항화물운송업(케미컬탱커)  1976-06-29         12월   \n",
      "\n",
      "        Representative                       HomePage Region  \n",
      "0                  손삼달         http://www.ajnet.co.kr  서울특별시  \n",
      "1    채형석, 백차현(각자 대표이사)  http://www.aekyunggroup.co.kr  서울특별시  \n",
      "2                  홍정국           http://www.bgf.co.kr  서울특별시  \n",
      "3                  민승배       http://www.bgfretail.com  서울특별시  \n",
      "4                  빈대인           http://www.bnkfg.com  부산광역시  \n",
      "..                 ...                            ...    ...  \n",
      "953                김석현           http://www.huvis.com  서울특별시  \n",
      "954                 박훈         http://www.husteel.com  서울특별시  \n",
      "955                송윤상     http://www.insurance.co.kr  서울특별시  \n",
      "956                NaN                            NaN    NaN  \n",
      "957                이환구         http://www.heung-a.com  서울특별시  \n",
      "\n",
      "[958 rows x 10 columns]\n"
     ]
    }
   ],
   "source": [
    "print(stocks)"
   ]
  }
 ],
 "metadata": {
  "kernelspec": {
   "display_name": "Python 3 (ipykernel)",
   "language": "python",
   "name": "python3"
  },
  "language_info": {
   "codemirror_mode": {
    "name": "ipython",
    "version": 3
   },
   "file_extension": ".py",
   "mimetype": "text/x-python",
   "name": "python",
   "nbconvert_exporter": "python",
   "pygments_lexer": "ipython3",
   "version": "3.10.12"
  }
 },
 "nbformat": 4,
 "nbformat_minor": 5
}
